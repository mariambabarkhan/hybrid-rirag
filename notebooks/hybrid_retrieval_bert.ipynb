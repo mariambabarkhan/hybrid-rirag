{
  "cells": [
    {
      "cell_type": "markdown",
      "metadata": {
        "id": "x5ydo2eOXd_J"
      },
      "source": [
        "# PART 1 - Information Retrieval"
      ]
    },
    {
      "cell_type": "markdown",
      "metadata": {
        "id": "K3M0yX-IXGLR"
      },
      "source": [
        "## Import Necessary Libraries"
      ]
    },
    {
      "cell_type": "code",
      "execution_count": 1,
      "metadata": {
        "colab": {
          "base_uri": "https://localhost:8080/"
        },
        "id": "mcTsAP4bYiuq",
        "outputId": "9858dc1a-8615-4ef0-f9db-afb6287a8151"
      },
      "outputs": [
        {
          "output_type": "stream",
          "name": "stdout",
          "text": [
            "Requirement already satisfied: nltk in /usr/local/lib/python3.10/dist-packages (3.9.1)\n",
            "Requirement already satisfied: torch in /usr/local/lib/python3.10/dist-packages (2.5.1+cu121)\n",
            "Collecting faiss-cpu\n",
            "  Downloading faiss_cpu-1.9.0.post1-cp310-cp310-manylinux_2_17_x86_64.manylinux2014_x86_64.whl.metadata (4.4 kB)\n",
            "Requirement already satisfied: requests in /usr/local/lib/python3.10/dist-packages (2.32.3)\n",
            "Requirement already satisfied: numpy in /usr/local/lib/python3.10/dist-packages (1.26.4)\n",
            "Collecting neo4j\n",
            "  Downloading neo4j-5.26.0-py3-none-any.whl.metadata (5.9 kB)\n",
            "Requirement already satisfied: sentence-transformers in /usr/local/lib/python3.10/dist-packages (3.2.1)\n",
            "Collecting groq\n",
            "  Downloading groq-0.12.0-py3-none-any.whl.metadata (13 kB)\n",
            "Collecting rank_bm25\n",
            "  Downloading rank_bm25-0.2.2-py3-none-any.whl.metadata (3.2 kB)\n",
            "Collecting pyserini==0.22.1\n",
            "  Downloading pyserini-0.22.1-py3-none-any.whl.metadata (4.5 kB)\n",
            "Requirement already satisfied: Cython>=0.29.21 in /usr/local/lib/python3.10/dist-packages (from pyserini==0.22.1) (3.0.11)\n",
            "Requirement already satisfied: pandas>=1.4.0 in /usr/local/lib/python3.10/dist-packages (from pyserini==0.22.1) (2.2.2)\n",
            "Collecting pyjnius>=1.4.0 (from pyserini==0.22.1)\n",
            "  Downloading pyjnius-1.6.1-cp310-cp310-manylinux_2_17_x86_64.manylinux2014_x86_64.whl.metadata (10 kB)\n",
            "Requirement already satisfied: scikit-learn>=0.22.1 in /usr/local/lib/python3.10/dist-packages (from pyserini==0.22.1) (1.5.2)\n",
            "Requirement already satisfied: scipy>=1.4.1 in /usr/local/lib/python3.10/dist-packages (from pyserini==0.22.1) (1.13.1)\n",
            "Requirement already satisfied: tqdm in /usr/local/lib/python3.10/dist-packages (from pyserini==0.22.1) (4.66.6)\n",
            "Requirement already satisfied: transformers>=4.6.0 in /usr/local/lib/python3.10/dist-packages (from pyserini==0.22.1) (4.46.2)\n",
            "Requirement already satisfied: sentencepiece>=0.1.95 in /usr/local/lib/python3.10/dist-packages (from pyserini==0.22.1) (0.2.0)\n",
            "Collecting nmslib>=2.1.1 (from pyserini==0.22.1)\n",
            "  Downloading nmslib-2.1.1.tar.gz (188 kB)\n",
            "\u001b[2K     \u001b[90m━━━━━━━━━━━━━━━━━━━━━━━━━━━━━━━━━━━━━━━━\u001b[0m \u001b[32m188.7/188.7 kB\u001b[0m \u001b[31m4.3 MB/s\u001b[0m eta \u001b[36m0:00:00\u001b[0m\n",
            "\u001b[?25h  Preparing metadata (setup.py) ... \u001b[?25l\u001b[?25hdone\n",
            "Collecting onnxruntime>=1.8.1 (from pyserini==0.22.1)\n",
            "  Downloading onnxruntime-1.20.1-cp310-cp310-manylinux_2_27_x86_64.manylinux_2_28_x86_64.whl.metadata (4.5 kB)\n",
            "Requirement already satisfied: lightgbm>=3.3.2 in /usr/local/lib/python3.10/dist-packages (from pyserini==0.22.1) (4.5.0)\n",
            "Requirement already satisfied: spacy>=3.2.1 in /usr/local/lib/python3.10/dist-packages (from pyserini==0.22.1) (3.7.5)\n",
            "Requirement already satisfied: pyyaml in /usr/local/lib/python3.10/dist-packages (from pyserini==0.22.1) (6.0.2)\n",
            "Requirement already satisfied: click in /usr/local/lib/python3.10/dist-packages (from nltk) (8.1.7)\n",
            "Requirement already satisfied: joblib in /usr/local/lib/python3.10/dist-packages (from nltk) (1.4.2)\n",
            "Requirement already satisfied: regex>=2021.8.3 in /usr/local/lib/python3.10/dist-packages (from nltk) (2024.9.11)\n",
            "Requirement already satisfied: filelock in /usr/local/lib/python3.10/dist-packages (from torch) (3.16.1)\n",
            "Requirement already satisfied: typing-extensions>=4.8.0 in /usr/local/lib/python3.10/dist-packages (from torch) (4.12.2)\n",
            "Requirement already satisfied: networkx in /usr/local/lib/python3.10/dist-packages (from torch) (3.4.2)\n",
            "Requirement already satisfied: jinja2 in /usr/local/lib/python3.10/dist-packages (from torch) (3.1.4)\n",
            "Requirement already satisfied: fsspec in /usr/local/lib/python3.10/dist-packages (from torch) (2024.10.0)\n",
            "Requirement already satisfied: sympy==1.13.1 in /usr/local/lib/python3.10/dist-packages (from torch) (1.13.1)\n",
            "Requirement already satisfied: mpmath<1.4,>=1.1.0 in /usr/local/lib/python3.10/dist-packages (from sympy==1.13.1->torch) (1.3.0)\n",
            "Requirement already satisfied: packaging in /usr/local/lib/python3.10/dist-packages (from faiss-cpu) (24.2)\n",
            "Requirement already satisfied: charset-normalizer<4,>=2 in /usr/local/lib/python3.10/dist-packages (from requests) (3.4.0)\n",
            "Requirement already satisfied: idna<4,>=2.5 in /usr/local/lib/python3.10/dist-packages (from requests) (3.10)\n",
            "Requirement already satisfied: urllib3<3,>=1.21.1 in /usr/local/lib/python3.10/dist-packages (from requests) (2.2.3)\n",
            "Requirement already satisfied: certifi>=2017.4.17 in /usr/local/lib/python3.10/dist-packages (from requests) (2024.8.30)\n",
            "Requirement already satisfied: pytz in /usr/local/lib/python3.10/dist-packages (from neo4j) (2024.2)\n",
            "Requirement already satisfied: huggingface-hub>=0.20.0 in /usr/local/lib/python3.10/dist-packages (from sentence-transformers) (0.26.2)\n",
            "Requirement already satisfied: Pillow in /usr/local/lib/python3.10/dist-packages (from sentence-transformers) (11.0.0)\n",
            "Requirement already satisfied: anyio<5,>=3.5.0 in /usr/local/lib/python3.10/dist-packages (from groq) (3.7.1)\n",
            "Requirement already satisfied: distro<2,>=1.7.0 in /usr/local/lib/python3.10/dist-packages (from groq) (1.9.0)\n",
            "Requirement already satisfied: httpx<1,>=0.23.0 in /usr/local/lib/python3.10/dist-packages (from groq) (0.27.2)\n",
            "Requirement already satisfied: pydantic<3,>=1.9.0 in /usr/local/lib/python3.10/dist-packages (from groq) (2.9.2)\n",
            "Requirement already satisfied: sniffio in /usr/local/lib/python3.10/dist-packages (from groq) (1.3.1)\n",
            "Requirement already satisfied: exceptiongroup in /usr/local/lib/python3.10/dist-packages (from anyio<5,>=3.5.0->groq) (1.2.2)\n",
            "Requirement already satisfied: httpcore==1.* in /usr/local/lib/python3.10/dist-packages (from httpx<1,>=0.23.0->groq) (1.0.7)\n",
            "Requirement already satisfied: h11<0.15,>=0.13 in /usr/local/lib/python3.10/dist-packages (from httpcore==1.*->httpx<1,>=0.23.0->groq) (0.14.0)\n",
            "Collecting pybind11<2.6.2 (from nmslib>=2.1.1->pyserini==0.22.1)\n",
            "  Using cached pybind11-2.6.1-py2.py3-none-any.whl.metadata (8.7 kB)\n",
            "Requirement already satisfied: psutil in /usr/local/lib/python3.10/dist-packages (from nmslib>=2.1.1->pyserini==0.22.1) (5.9.5)\n",
            "Collecting coloredlogs (from onnxruntime>=1.8.1->pyserini==0.22.1)\n",
            "  Downloading coloredlogs-15.0.1-py2.py3-none-any.whl.metadata (12 kB)\n",
            "Requirement already satisfied: flatbuffers in /usr/local/lib/python3.10/dist-packages (from onnxruntime>=1.8.1->pyserini==0.22.1) (24.3.25)\n",
            "Requirement already satisfied: protobuf in /usr/local/lib/python3.10/dist-packages (from onnxruntime>=1.8.1->pyserini==0.22.1) (4.25.5)\n",
            "Requirement already satisfied: python-dateutil>=2.8.2 in /usr/local/lib/python3.10/dist-packages (from pandas>=1.4.0->pyserini==0.22.1) (2.8.2)\n",
            "Requirement already satisfied: tzdata>=2022.7 in /usr/local/lib/python3.10/dist-packages (from pandas>=1.4.0->pyserini==0.22.1) (2024.2)\n",
            "Requirement already satisfied: annotated-types>=0.6.0 in /usr/local/lib/python3.10/dist-packages (from pydantic<3,>=1.9.0->groq) (0.7.0)\n",
            "Requirement already satisfied: pydantic-core==2.23.4 in /usr/local/lib/python3.10/dist-packages (from pydantic<3,>=1.9.0->groq) (2.23.4)\n",
            "Requirement already satisfied: threadpoolctl>=3.1.0 in /usr/local/lib/python3.10/dist-packages (from scikit-learn>=0.22.1->pyserini==0.22.1) (3.5.0)\n",
            "Requirement already satisfied: spacy-legacy<3.1.0,>=3.0.11 in /usr/local/lib/python3.10/dist-packages (from spacy>=3.2.1->pyserini==0.22.1) (3.0.12)\n",
            "Requirement already satisfied: spacy-loggers<2.0.0,>=1.0.0 in /usr/local/lib/python3.10/dist-packages (from spacy>=3.2.1->pyserini==0.22.1) (1.0.5)\n",
            "Requirement already satisfied: murmurhash<1.1.0,>=0.28.0 in /usr/local/lib/python3.10/dist-packages (from spacy>=3.2.1->pyserini==0.22.1) (1.0.10)\n",
            "Requirement already satisfied: cymem<2.1.0,>=2.0.2 in /usr/local/lib/python3.10/dist-packages (from spacy>=3.2.1->pyserini==0.22.1) (2.0.8)\n",
            "Requirement already satisfied: preshed<3.1.0,>=3.0.2 in /usr/local/lib/python3.10/dist-packages (from spacy>=3.2.1->pyserini==0.22.1) (3.0.9)\n",
            "Requirement already satisfied: thinc<8.3.0,>=8.2.2 in /usr/local/lib/python3.10/dist-packages (from spacy>=3.2.1->pyserini==0.22.1) (8.2.5)\n",
            "Requirement already satisfied: wasabi<1.2.0,>=0.9.1 in /usr/local/lib/python3.10/dist-packages (from spacy>=3.2.1->pyserini==0.22.1) (1.1.3)\n",
            "Requirement already satisfied: srsly<3.0.0,>=2.4.3 in /usr/local/lib/python3.10/dist-packages (from spacy>=3.2.1->pyserini==0.22.1) (2.4.8)\n",
            "Requirement already satisfied: catalogue<2.1.0,>=2.0.6 in /usr/local/lib/python3.10/dist-packages (from spacy>=3.2.1->pyserini==0.22.1) (2.0.10)\n",
            "Requirement already satisfied: weasel<0.5.0,>=0.1.0 in /usr/local/lib/python3.10/dist-packages (from spacy>=3.2.1->pyserini==0.22.1) (0.4.1)\n",
            "Requirement already satisfied: typer<1.0.0,>=0.3.0 in /usr/local/lib/python3.10/dist-packages (from spacy>=3.2.1->pyserini==0.22.1) (0.13.0)\n",
            "Requirement already satisfied: setuptools in /usr/local/lib/python3.10/dist-packages (from spacy>=3.2.1->pyserini==0.22.1) (75.1.0)\n",
            "Requirement already satisfied: langcodes<4.0.0,>=3.2.0 in /usr/local/lib/python3.10/dist-packages (from spacy>=3.2.1->pyserini==0.22.1) (3.4.1)\n",
            "Requirement already satisfied: safetensors>=0.4.1 in /usr/local/lib/python3.10/dist-packages (from transformers>=4.6.0->pyserini==0.22.1) (0.4.5)\n",
            "Requirement already satisfied: tokenizers<0.21,>=0.20 in /usr/local/lib/python3.10/dist-packages (from transformers>=4.6.0->pyserini==0.22.1) (0.20.3)\n",
            "Requirement already satisfied: MarkupSafe>=2.0 in /usr/local/lib/python3.10/dist-packages (from jinja2->torch) (3.0.2)\n",
            "Requirement already satisfied: language-data>=1.2 in /usr/local/lib/python3.10/dist-packages (from langcodes<4.0.0,>=3.2.0->spacy>=3.2.1->pyserini==0.22.1) (1.2.0)\n",
            "Requirement already satisfied: six>=1.5 in /usr/local/lib/python3.10/dist-packages (from python-dateutil>=2.8.2->pandas>=1.4.0->pyserini==0.22.1) (1.16.0)\n",
            "Requirement already satisfied: blis<0.8.0,>=0.7.8 in /usr/local/lib/python3.10/dist-packages (from thinc<8.3.0,>=8.2.2->spacy>=3.2.1->pyserini==0.22.1) (0.7.11)\n",
            "Requirement already satisfied: confection<1.0.0,>=0.0.1 in /usr/local/lib/python3.10/dist-packages (from thinc<8.3.0,>=8.2.2->spacy>=3.2.1->pyserini==0.22.1) (0.1.5)\n",
            "Requirement already satisfied: shellingham>=1.3.0 in /usr/local/lib/python3.10/dist-packages (from typer<1.0.0,>=0.3.0->spacy>=3.2.1->pyserini==0.22.1) (1.5.4)\n",
            "Requirement already satisfied: rich>=10.11.0 in /usr/local/lib/python3.10/dist-packages (from typer<1.0.0,>=0.3.0->spacy>=3.2.1->pyserini==0.22.1) (13.9.4)\n",
            "Requirement already satisfied: cloudpathlib<1.0.0,>=0.7.0 in /usr/local/lib/python3.10/dist-packages (from weasel<0.5.0,>=0.1.0->spacy>=3.2.1->pyserini==0.22.1) (0.20.0)\n",
            "Requirement already satisfied: smart-open<8.0.0,>=5.2.1 in /usr/local/lib/python3.10/dist-packages (from weasel<0.5.0,>=0.1.0->spacy>=3.2.1->pyserini==0.22.1) (7.0.5)\n",
            "Collecting humanfriendly>=9.1 (from coloredlogs->onnxruntime>=1.8.1->pyserini==0.22.1)\n",
            "  Downloading humanfriendly-10.0-py2.py3-none-any.whl.metadata (9.2 kB)\n",
            "Requirement already satisfied: marisa-trie>=0.7.7 in /usr/local/lib/python3.10/dist-packages (from language-data>=1.2->langcodes<4.0.0,>=3.2.0->spacy>=3.2.1->pyserini==0.22.1) (1.2.1)\n",
            "Requirement already satisfied: markdown-it-py>=2.2.0 in /usr/local/lib/python3.10/dist-packages (from rich>=10.11.0->typer<1.0.0,>=0.3.0->spacy>=3.2.1->pyserini==0.22.1) (3.0.0)\n",
            "Requirement already satisfied: pygments<3.0.0,>=2.13.0 in /usr/local/lib/python3.10/dist-packages (from rich>=10.11.0->typer<1.0.0,>=0.3.0->spacy>=3.2.1->pyserini==0.22.1) (2.18.0)\n",
            "Requirement already satisfied: wrapt in /usr/local/lib/python3.10/dist-packages (from smart-open<8.0.0,>=5.2.1->weasel<0.5.0,>=0.1.0->spacy>=3.2.1->pyserini==0.22.1) (1.16.0)\n",
            "Requirement already satisfied: mdurl~=0.1 in /usr/local/lib/python3.10/dist-packages (from markdown-it-py>=2.2.0->rich>=10.11.0->typer<1.0.0,>=0.3.0->spacy>=3.2.1->pyserini==0.22.1) (0.1.2)\n",
            "Downloading pyserini-0.22.1-py3-none-any.whl (140.5 MB)\n",
            "\u001b[2K   \u001b[90m━━━━━━━━━━━━━━━━━━━━━━━━━━━━━━━━━━━━━━━━\u001b[0m \u001b[32m140.5/140.5 MB\u001b[0m \u001b[31m7.4 MB/s\u001b[0m eta \u001b[36m0:00:00\u001b[0m\n",
            "\u001b[?25hDownloading faiss_cpu-1.9.0.post1-cp310-cp310-manylinux_2_17_x86_64.manylinux2014_x86_64.whl (27.5 MB)\n",
            "\u001b[2K   \u001b[90m━━━━━━━━━━━━━━━━━━━━━━━━━━━━━━━━━━━━━━━━\u001b[0m \u001b[32m27.5/27.5 MB\u001b[0m \u001b[31m40.3 MB/s\u001b[0m eta \u001b[36m0:00:00\u001b[0m\n",
            "\u001b[?25hDownloading neo4j-5.26.0-py3-none-any.whl (302 kB)\n",
            "\u001b[2K   \u001b[90m━━━━━━━━━━━━━━━━━━━━━━━━━━━━━━━━━━━━━━━━\u001b[0m \u001b[32m302.0/302.0 kB\u001b[0m \u001b[31m11.2 MB/s\u001b[0m eta \u001b[36m0:00:00\u001b[0m\n",
            "\u001b[?25hDownloading groq-0.12.0-py3-none-any.whl (108 kB)\n",
            "\u001b[2K   \u001b[90m━━━━━━━━━━━━━━━━━━━━━━━━━━━━━━━━━━━━━━━━\u001b[0m \u001b[32m108.9/108.9 kB\u001b[0m \u001b[31m4.3 MB/s\u001b[0m eta \u001b[36m0:00:00\u001b[0m\n",
            "\u001b[?25hDownloading rank_bm25-0.2.2-py3-none-any.whl (8.6 kB)\n",
            "Downloading onnxruntime-1.20.1-cp310-cp310-manylinux_2_27_x86_64.manylinux_2_28_x86_64.whl (13.3 MB)\n",
            "\u001b[2K   \u001b[90m━━━━━━━━━━━━━━━━━━━━━━━━━━━━━━━━━━━━━━━━\u001b[0m \u001b[32m13.3/13.3 MB\u001b[0m \u001b[31m46.9 MB/s\u001b[0m eta \u001b[36m0:00:00\u001b[0m\n",
            "\u001b[?25hDownloading pyjnius-1.6.1-cp310-cp310-manylinux_2_17_x86_64.manylinux2014_x86_64.whl (1.5 MB)\n",
            "\u001b[2K   \u001b[90m━━━━━━━━━━━━━━━━━━━━━━━━━━━━━━━━━━━━━━━━\u001b[0m \u001b[32m1.5/1.5 MB\u001b[0m \u001b[31m10.0 MB/s\u001b[0m eta \u001b[36m0:00:00\u001b[0m\n",
            "\u001b[?25hUsing cached pybind11-2.6.1-py2.py3-none-any.whl (188 kB)\n",
            "Downloading coloredlogs-15.0.1-py2.py3-none-any.whl (46 kB)\n",
            "\u001b[2K   \u001b[90m━━━━━━━━━━━━━━━━━━━━━━━━━━━━━━━━━━━━━━━━\u001b[0m \u001b[32m46.0/46.0 kB\u001b[0m \u001b[31m939.7 kB/s\u001b[0m eta \u001b[36m0:00:00\u001b[0m\n",
            "\u001b[?25hDownloading humanfriendly-10.0-py2.py3-none-any.whl (86 kB)\n",
            "\u001b[2K   \u001b[90m━━━━━━━━━━━━━━━━━━━━━━━━━━━━━━━━━━━━━━━━\u001b[0m \u001b[32m86.8/86.8 kB\u001b[0m \u001b[31m5.7 MB/s\u001b[0m eta \u001b[36m0:00:00\u001b[0m\n",
            "\u001b[?25hBuilding wheels for collected packages: nmslib\n",
            "  Building wheel for nmslib (setup.py) ... \u001b[?25l\u001b[?25hdone\n",
            "  Created wheel for nmslib: filename=nmslib-2.1.1-cp310-cp310-linux_x86_64.whl size=13578640 sha256=72ea3e7434e38dc613e2c89dd6a30aeb7a6a1fde899e48cf6155746356e3d4c7\n",
            "  Stored in directory: /root/.cache/pip/wheels/21/1a/5d/4cc754a5b1a88405cad184b76f823897a63a8d19afcd4b9314\n",
            "Successfully built nmslib\n",
            "Installing collected packages: pyjnius, rank_bm25, pybind11, neo4j, humanfriendly, faiss-cpu, nmslib, coloredlogs, onnxruntime, groq, pyserini\n",
            "Successfully installed coloredlogs-15.0.1 faiss-cpu-1.9.0.post1 groq-0.12.0 humanfriendly-10.0 neo4j-5.26.0 nmslib-2.1.1 onnxruntime-1.20.1 pybind11-2.6.1 pyjnius-1.6.1 pyserini-0.22.1 rank_bm25-0.2.2\n"
          ]
        }
      ],
      "source": [
        "!pip install nltk torch faiss-cpu requests numpy neo4j sentence-transformers groq rank_bm25 pyserini==0.22.1"
      ]
    },
    {
      "cell_type": "code",
      "execution_count": 2,
      "metadata": {
        "colab": {
          "base_uri": "https://localhost:8080/"
        },
        "id": "LEK8pF0uYlW2",
        "outputId": "3efb2629-0fa5-4383-a80b-ee21bd930b94"
      },
      "outputs": [
        {
          "output_type": "stream",
          "name": "stderr",
          "text": [
            "[nltk_data] Downloading package punkt to /root/nltk_data...\n",
            "[nltk_data]   Unzipping tokenizers/punkt.zip.\n",
            "[nltk_data] Downloading package wordnet to /root/nltk_data...\n",
            "[nltk_data] Downloading package omw-1.4 to /root/nltk_data...\n",
            "[nltk_data] Downloading package punkt_tab to /root/nltk_data...\n",
            "[nltk_data]   Unzipping tokenizers/punkt_tab.zip.\n"
          ]
        }
      ],
      "source": [
        "import os\n",
        "import re\n",
        "import json\n",
        "import nltk\n",
        "import time\n",
        "import faiss\n",
        "import torch\n",
        "import pickle\n",
        "import requests\n",
        "import subprocess\n",
        "import numpy as np\n",
        "nltk.download('punkt')\n",
        "nltk.download('wordnet')\n",
        "nltk.download('omw-1.4')\n",
        "nltk.download('punkt_tab')\n",
        "from typing import List, Dict\n",
        "from google.colab import files\n",
        "from nltk.corpus import wordnet\n",
        "from neo4j import GraphDatabase\n",
        "from rank_bm25 import BM25Okapi\n",
        "from google.colab import userdata\n",
        "import google.generativeai as genai\n",
        "from nltk.tokenize import word_tokenize\n",
        "from sklearn.metrics import average_precision_score\n",
        "from sentence_transformers import SentenceTransformer\n",
        "from sklearn.metrics.pairwise import cosine_similarity\n",
        "from transformers import AutoTokenizer, AutoModel, AutoModelForSequenceClassification"
      ]
    },
    {
      "cell_type": "code",
      "execution_count": 3,
      "metadata": {
        "id": "n31lwkT6Ynx3"
      },
      "outputs": [],
      "source": [
        "GROQ_API_KEY = userdata.get('GROQ_API_KEY')\n",
        "NEO_USER = userdata.get('NEO_USER')\n",
        "NEO_PASS = userdata.get('NEO_PASS')\n",
        "NEO_URL = userdata.get('NEO_URL')\n",
        "GROQ_URL = userdata.get('GROQ_URL')"
      ]
    },
    {
      "cell_type": "code",
      "execution_count": 4,
      "metadata": {
        "colab": {
          "base_uri": "https://localhost:8080/"
        },
        "id": "Bt0CXuNzHmX1",
        "outputId": "ae3d5583-fc1d-4ac2-8e2e-cbe64737e511"
      },
      "outputs": [
        {
          "output_type": "stream",
          "name": "stdout",
          "text": [
            "Cloning into 'trec_eval'...\n",
            "remote: Enumerating objects: 1147, done.\u001b[K\n",
            "remote: Counting objects: 100% (332/332), done.\u001b[K\n",
            "remote: Compressing objects: 100% (100/100), done.\u001b[K\n",
            "remote: Total 1147 (delta 264), reused 277 (delta 226), pack-reused 815 (from 1)\u001b[K\n",
            "Receiving objects: 100% (1147/1147), 764.18 KiB | 4.22 MiB/s, done.\n",
            "Resolving deltas: 100% (769/769), done.\n",
            "gcc -g -I.  -Wall -Wno-macro-redefined -DVERSIONID=\\\"10.0-rc2\\\"  -o trec_eval trec_eval.c formats.c meas_init.c meas_acc.c meas_avg.c meas_print_single.c meas_print_final.c gain_init.c get_qrels.c get_trec_results.c get_prefs.c get_qrels_prefs.c get_qrels_jg.c form_res_rels.c form_res_rels_jg.c form_prefs_counts.c utility_pool.c get_zscores.c convert_zscores.c measures.c  m_map.c m_P.c m_num_q.c m_num_ret.c m_num_rel.c m_num_rel_ret.c m_gm_map.c m_Rprec.c m_recip_rank.c m_bpref.c m_iprec_at_recall.c m_recall.c m_Rprec_mult.c m_utility.c m_11pt_avg.c m_ndcg.c m_ndcg_cut.c m_Rndcg.c m_ndcg_rel.c m_binG.c m_G.c m_rel_P.c m_success.c m_infap.c m_map_cut.c m_gm_bpref.c m_runid.c m_relstring.c m_set_P.c m_set_recall.c m_set_rel_P.c m_set_map.c m_set_F.c m_num_nonrel_judged_ret.c m_prefs_num_prefs_poss.c m_prefs_num_prefs_ful.c m_prefs_num_prefs_ful_ret.c m_prefs_simp.c m_prefs_pair.c m_prefs_avgjg.c m_prefs_avgjg_Rnonrel.c m_prefs_simp_ret.c m_prefs_pair_ret.c m_prefs_avgjg_ret.c m_prefs_avgjg_Rnonrel_ret.c m_prefs_simp_imp.c m_prefs_pair_imp.c m_prefs_avgjg_imp.c m_map_avgjg.c m_Rprec_mult_avgjg.c m_P_avgjg.c m_yaap.c m_rbp.c m_rbp_resid.c m_unjudged.c -lm\n"
          ]
        }
      ],
      "source": [
        "!git clone https://github.com/usnistgov/trec_eval.git && cd trec_eval && make"
      ]
    },
    {
      "cell_type": "code",
      "execution_count": 5,
      "metadata": {
        "colab": {
          "base_uri": "https://localhost:8080/"
        },
        "id": "_LSfjV08HpZF",
        "outputId": "fb78bfde-36c0-489f-a827-205c337b76f4"
      },
      "outputs": [
        {
          "output_type": "stream",
          "name": "stdout",
          "text": [
            "Cloning into 'RePASs'...\n",
            "remote: Enumerating objects: 140, done.\u001b[K\n",
            "remote: Counting objects: 100% (140/140), done.\u001b[K\n",
            "remote: Compressing objects: 100% (132/132), done.\u001b[K\n",
            "remote: Total 140 (delta 61), reused 0 (delta 0), pack-reused 0 (from 0)\u001b[K\n",
            "Receiving objects: 100% (140/140), 306.77 KiB | 2.64 MiB/s, done.\n",
            "Resolving deltas: 100% (61/61), done.\n",
            "/content/RePASs\n",
            "Requirement already satisfied: torch in /usr/local/lib/python3.10/dist-packages (from -r requirements.txt (line 1)) (2.5.1+cu121)\n",
            "Requirement already satisfied: transformers>=4.30.0 in /usr/local/lib/python3.10/dist-packages (from -r requirements.txt (line 2)) (4.46.2)\n",
            "Requirement already satisfied: accelerate>=0.26.0 in /usr/local/lib/python3.10/dist-packages (from -r requirements.txt (line 3)) (1.1.1)\n",
            "Requirement already satisfied: scikit-learn in /usr/local/lib/python3.10/dist-packages (from -r requirements.txt (line 4)) (1.5.2)\n",
            "Requirement already satisfied: sentence-transformers in /usr/local/lib/python3.10/dist-packages (from -r requirements.txt (line 5)) (3.2.1)\n",
            "Requirement already satisfied: nltk in /usr/local/lib/python3.10/dist-packages (from -r requirements.txt (line 6)) (3.9.1)\n",
            "Requirement already satisfied: tqdm in /usr/local/lib/python3.10/dist-packages (from -r requirements.txt (line 7)) (4.66.6)\n",
            "Requirement already satisfied: pandas in /usr/local/lib/python3.10/dist-packages (from -r requirements.txt (line 8)) (2.2.2)\n",
            "Requirement already satisfied: numpy in /usr/local/lib/python3.10/dist-packages (from -r requirements.txt (line 9)) (1.26.4)\n",
            "Collecting tiktoken (from -r requirements.txt (line 10))\n",
            "  Downloading tiktoken-0.8.0-cp310-cp310-manylinux_2_17_x86_64.manylinux2014_x86_64.whl.metadata (6.6 kB)\n",
            "Requirement already satisfied: protobuf in /usr/local/lib/python3.10/dist-packages (from -r requirements.txt (line 11)) (4.25.5)\n",
            "Requirement already satisfied: sentencepiece in /usr/local/lib/python3.10/dist-packages (from -r requirements.txt (line 12)) (0.2.0)\n",
            "Requirement already satisfied: spacy in /usr/local/lib/python3.10/dist-packages (from -r requirements.txt (line 13)) (3.7.5)\n",
            "Requirement already satisfied: filelock in /usr/local/lib/python3.10/dist-packages (from torch->-r requirements.txt (line 1)) (3.16.1)\n",
            "Requirement already satisfied: typing-extensions>=4.8.0 in /usr/local/lib/python3.10/dist-packages (from torch->-r requirements.txt (line 1)) (4.12.2)\n",
            "Requirement already satisfied: networkx in /usr/local/lib/python3.10/dist-packages (from torch->-r requirements.txt (line 1)) (3.4.2)\n",
            "Requirement already satisfied: jinja2 in /usr/local/lib/python3.10/dist-packages (from torch->-r requirements.txt (line 1)) (3.1.4)\n",
            "Requirement already satisfied: fsspec in /usr/local/lib/python3.10/dist-packages (from torch->-r requirements.txt (line 1)) (2024.10.0)\n",
            "Requirement already satisfied: sympy==1.13.1 in /usr/local/lib/python3.10/dist-packages (from torch->-r requirements.txt (line 1)) (1.13.1)\n",
            "Requirement already satisfied: mpmath<1.4,>=1.1.0 in /usr/local/lib/python3.10/dist-packages (from sympy==1.13.1->torch->-r requirements.txt (line 1)) (1.3.0)\n",
            "Requirement already satisfied: huggingface-hub<1.0,>=0.23.2 in /usr/local/lib/python3.10/dist-packages (from transformers>=4.30.0->-r requirements.txt (line 2)) (0.26.2)\n",
            "Requirement already satisfied: packaging>=20.0 in /usr/local/lib/python3.10/dist-packages (from transformers>=4.30.0->-r requirements.txt (line 2)) (24.2)\n",
            "Requirement already satisfied: pyyaml>=5.1 in /usr/local/lib/python3.10/dist-packages (from transformers>=4.30.0->-r requirements.txt (line 2)) (6.0.2)\n",
            "Requirement already satisfied: regex!=2019.12.17 in /usr/local/lib/python3.10/dist-packages (from transformers>=4.30.0->-r requirements.txt (line 2)) (2024.9.11)\n",
            "Requirement already satisfied: requests in /usr/local/lib/python3.10/dist-packages (from transformers>=4.30.0->-r requirements.txt (line 2)) (2.32.3)\n",
            "Requirement already satisfied: safetensors>=0.4.1 in /usr/local/lib/python3.10/dist-packages (from transformers>=4.30.0->-r requirements.txt (line 2)) (0.4.5)\n",
            "Requirement already satisfied: tokenizers<0.21,>=0.20 in /usr/local/lib/python3.10/dist-packages (from transformers>=4.30.0->-r requirements.txt (line 2)) (0.20.3)\n",
            "Requirement already satisfied: psutil in /usr/local/lib/python3.10/dist-packages (from accelerate>=0.26.0->-r requirements.txt (line 3)) (5.9.5)\n",
            "Requirement already satisfied: scipy>=1.6.0 in /usr/local/lib/python3.10/dist-packages (from scikit-learn->-r requirements.txt (line 4)) (1.13.1)\n",
            "Requirement already satisfied: joblib>=1.2.0 in /usr/local/lib/python3.10/dist-packages (from scikit-learn->-r requirements.txt (line 4)) (1.4.2)\n",
            "Requirement already satisfied: threadpoolctl>=3.1.0 in /usr/local/lib/python3.10/dist-packages (from scikit-learn->-r requirements.txt (line 4)) (3.5.0)\n",
            "Requirement already satisfied: Pillow in /usr/local/lib/python3.10/dist-packages (from sentence-transformers->-r requirements.txt (line 5)) (11.0.0)\n",
            "Requirement already satisfied: click in /usr/local/lib/python3.10/dist-packages (from nltk->-r requirements.txt (line 6)) (8.1.7)\n",
            "Requirement already satisfied: python-dateutil>=2.8.2 in /usr/local/lib/python3.10/dist-packages (from pandas->-r requirements.txt (line 8)) (2.8.2)\n",
            "Requirement already satisfied: pytz>=2020.1 in /usr/local/lib/python3.10/dist-packages (from pandas->-r requirements.txt (line 8)) (2024.2)\n",
            "Requirement already satisfied: tzdata>=2022.7 in /usr/local/lib/python3.10/dist-packages (from pandas->-r requirements.txt (line 8)) (2024.2)\n",
            "Requirement already satisfied: spacy-legacy<3.1.0,>=3.0.11 in /usr/local/lib/python3.10/dist-packages (from spacy->-r requirements.txt (line 13)) (3.0.12)\n",
            "Requirement already satisfied: spacy-loggers<2.0.0,>=1.0.0 in /usr/local/lib/python3.10/dist-packages (from spacy->-r requirements.txt (line 13)) (1.0.5)\n",
            "Requirement already satisfied: murmurhash<1.1.0,>=0.28.0 in /usr/local/lib/python3.10/dist-packages (from spacy->-r requirements.txt (line 13)) (1.0.10)\n",
            "Requirement already satisfied: cymem<2.1.0,>=2.0.2 in /usr/local/lib/python3.10/dist-packages (from spacy->-r requirements.txt (line 13)) (2.0.8)\n",
            "Requirement already satisfied: preshed<3.1.0,>=3.0.2 in /usr/local/lib/python3.10/dist-packages (from spacy->-r requirements.txt (line 13)) (3.0.9)\n",
            "Requirement already satisfied: thinc<8.3.0,>=8.2.2 in /usr/local/lib/python3.10/dist-packages (from spacy->-r requirements.txt (line 13)) (8.2.5)\n",
            "Requirement already satisfied: wasabi<1.2.0,>=0.9.1 in /usr/local/lib/python3.10/dist-packages (from spacy->-r requirements.txt (line 13)) (1.1.3)\n",
            "Requirement already satisfied: srsly<3.0.0,>=2.4.3 in /usr/local/lib/python3.10/dist-packages (from spacy->-r requirements.txt (line 13)) (2.4.8)\n",
            "Requirement already satisfied: catalogue<2.1.0,>=2.0.6 in /usr/local/lib/python3.10/dist-packages (from spacy->-r requirements.txt (line 13)) (2.0.10)\n",
            "Requirement already satisfied: weasel<0.5.0,>=0.1.0 in /usr/local/lib/python3.10/dist-packages (from spacy->-r requirements.txt (line 13)) (0.4.1)\n",
            "Requirement already satisfied: typer<1.0.0,>=0.3.0 in /usr/local/lib/python3.10/dist-packages (from spacy->-r requirements.txt (line 13)) (0.13.0)\n",
            "Requirement already satisfied: pydantic!=1.8,!=1.8.1,<3.0.0,>=1.7.4 in /usr/local/lib/python3.10/dist-packages (from spacy->-r requirements.txt (line 13)) (2.9.2)\n",
            "Requirement already satisfied: setuptools in /usr/local/lib/python3.10/dist-packages (from spacy->-r requirements.txt (line 13)) (75.1.0)\n",
            "Requirement already satisfied: langcodes<4.0.0,>=3.2.0 in /usr/local/lib/python3.10/dist-packages (from spacy->-r requirements.txt (line 13)) (3.4.1)\n",
            "Requirement already satisfied: language-data>=1.2 in /usr/local/lib/python3.10/dist-packages (from langcodes<4.0.0,>=3.2.0->spacy->-r requirements.txt (line 13)) (1.2.0)\n",
            "Requirement already satisfied: annotated-types>=0.6.0 in /usr/local/lib/python3.10/dist-packages (from pydantic!=1.8,!=1.8.1,<3.0.0,>=1.7.4->spacy->-r requirements.txt (line 13)) (0.7.0)\n",
            "Requirement already satisfied: pydantic-core==2.23.4 in /usr/local/lib/python3.10/dist-packages (from pydantic!=1.8,!=1.8.1,<3.0.0,>=1.7.4->spacy->-r requirements.txt (line 13)) (2.23.4)\n",
            "Requirement already satisfied: six>=1.5 in /usr/local/lib/python3.10/dist-packages (from python-dateutil>=2.8.2->pandas->-r requirements.txt (line 8)) (1.16.0)\n",
            "Requirement already satisfied: charset-normalizer<4,>=2 in /usr/local/lib/python3.10/dist-packages (from requests->transformers>=4.30.0->-r requirements.txt (line 2)) (3.4.0)\n",
            "Requirement already satisfied: idna<4,>=2.5 in /usr/local/lib/python3.10/dist-packages (from requests->transformers>=4.30.0->-r requirements.txt (line 2)) (3.10)\n",
            "Requirement already satisfied: urllib3<3,>=1.21.1 in /usr/local/lib/python3.10/dist-packages (from requests->transformers>=4.30.0->-r requirements.txt (line 2)) (2.2.3)\n",
            "Requirement already satisfied: certifi>=2017.4.17 in /usr/local/lib/python3.10/dist-packages (from requests->transformers>=4.30.0->-r requirements.txt (line 2)) (2024.8.30)\n",
            "Requirement already satisfied: blis<0.8.0,>=0.7.8 in /usr/local/lib/python3.10/dist-packages (from thinc<8.3.0,>=8.2.2->spacy->-r requirements.txt (line 13)) (0.7.11)\n",
            "Requirement already satisfied: confection<1.0.0,>=0.0.1 in /usr/local/lib/python3.10/dist-packages (from thinc<8.3.0,>=8.2.2->spacy->-r requirements.txt (line 13)) (0.1.5)\n",
            "Requirement already satisfied: shellingham>=1.3.0 in /usr/local/lib/python3.10/dist-packages (from typer<1.0.0,>=0.3.0->spacy->-r requirements.txt (line 13)) (1.5.4)\n",
            "Requirement already satisfied: rich>=10.11.0 in /usr/local/lib/python3.10/dist-packages (from typer<1.0.0,>=0.3.0->spacy->-r requirements.txt (line 13)) (13.9.4)\n",
            "Requirement already satisfied: cloudpathlib<1.0.0,>=0.7.0 in /usr/local/lib/python3.10/dist-packages (from weasel<0.5.0,>=0.1.0->spacy->-r requirements.txt (line 13)) (0.20.0)\n",
            "Requirement already satisfied: smart-open<8.0.0,>=5.2.1 in /usr/local/lib/python3.10/dist-packages (from weasel<0.5.0,>=0.1.0->spacy->-r requirements.txt (line 13)) (7.0.5)\n",
            "Requirement already satisfied: MarkupSafe>=2.0 in /usr/local/lib/python3.10/dist-packages (from jinja2->torch->-r requirements.txt (line 1)) (3.0.2)\n",
            "Requirement already satisfied: marisa-trie>=0.7.7 in /usr/local/lib/python3.10/dist-packages (from language-data>=1.2->langcodes<4.0.0,>=3.2.0->spacy->-r requirements.txt (line 13)) (1.2.1)\n",
            "Requirement already satisfied: markdown-it-py>=2.2.0 in /usr/local/lib/python3.10/dist-packages (from rich>=10.11.0->typer<1.0.0,>=0.3.0->spacy->-r requirements.txt (line 13)) (3.0.0)\n",
            "Requirement already satisfied: pygments<3.0.0,>=2.13.0 in /usr/local/lib/python3.10/dist-packages (from rich>=10.11.0->typer<1.0.0,>=0.3.0->spacy->-r requirements.txt (line 13)) (2.18.0)\n",
            "Requirement already satisfied: wrapt in /usr/local/lib/python3.10/dist-packages (from smart-open<8.0.0,>=5.2.1->weasel<0.5.0,>=0.1.0->spacy->-r requirements.txt (line 13)) (1.16.0)\n",
            "Requirement already satisfied: mdurl~=0.1 in /usr/local/lib/python3.10/dist-packages (from markdown-it-py>=2.2.0->rich>=10.11.0->typer<1.0.0,>=0.3.0->spacy->-r requirements.txt (line 13)) (0.1.2)\n",
            "Downloading tiktoken-0.8.0-cp310-cp310-manylinux_2_17_x86_64.manylinux2014_x86_64.whl (1.2 MB)\n",
            "\u001b[2K   \u001b[90m━━━━━━━━━━━━━━━━━━━━━━━━━━━━━━━━━━━━━━━━\u001b[0m \u001b[32m1.2/1.2 MB\u001b[0m \u001b[31m11.8 MB/s\u001b[0m eta \u001b[36m0:00:00\u001b[0m\n",
            "\u001b[?25hInstalling collected packages: tiktoken\n",
            "Successfully installed tiktoken-0.8.0\n"
          ]
        }
      ],
      "source": [
        "!git clone https://github.com/RegNLP/RePASs.git\n",
        "%cd RePASs\n",
        "!pip install -r requirements.txt"
      ]
    },
    {
      "cell_type": "code",
      "execution_count": 6,
      "metadata": {
        "colab": {
          "base_uri": "https://localhost:8080/",
          "height": 35
        },
        "id": "-a0MbywJHzCL",
        "outputId": "b74b80a7-6971-476a-e66e-089e9f9d9eae"
      },
      "outputs": [
        {
          "output_type": "execute_result",
          "data": {
            "text/plain": [
              "'/content/RePASs'"
            ],
            "application/vnd.google.colaboratory.intrinsic+json": {
              "type": "string"
            }
          },
          "metadata": {},
          "execution_count": 6
        }
      ],
      "source": [
        "os.getcwd()"
      ]
    },
    {
      "cell_type": "code",
      "source": [
        "os.makedirs('/content/RePASs/models/obligation-classifier-legalbert', exist_ok=True)"
      ],
      "metadata": {
        "id": "TOO6tOYUVXuU"
      },
      "execution_count": 7,
      "outputs": []
    },
    {
      "cell_type": "code",
      "execution_count": 8,
      "metadata": {
        "colab": {
          "base_uri": "https://localhost:8080/"
        },
        "id": "WWUXEvT1H4O5",
        "outputId": "85218368-54d3-49ce-e776-b376973c4c3d"
      },
      "outputs": [
        {
          "output_type": "stream",
          "name": "stdout",
          "text": [
            "/content\n"
          ]
        }
      ],
      "source": [
        "%cd .."
      ]
    },
    {
      "cell_type": "markdown",
      "metadata": {
        "id": "UEQEHmZvXKxT"
      },
      "source": [
        "## Load Data"
      ]
    },
    {
      "cell_type": "code",
      "execution_count": 9,
      "metadata": {
        "colab": {
          "base_uri": "https://localhost:8080/"
        },
        "id": "7FvxoL9eY48r",
        "outputId": "24ae5607-408a-4591-cd46-d7ab4dead47c"
      },
      "outputs": [
        {
          "output_type": "stream",
          "name": "stdout",
          "text": [
            "Cloning into 'ObliQADataset'...\n",
            "remote: Enumerating objects: 80, done.\u001b[K\n",
            "remote: Counting objects: 100% (80/80), done.\u001b[K\n",
            "remote: Compressing objects: 100% (76/76), done.\u001b[K\n",
            "remote: Total 80 (delta 17), reused 47 (delta 1), pack-reused 0 (from 0)\u001b[K\n",
            "Receiving objects: 100% (80/80), 11.87 MiB | 8.52 MiB/s, done.\n",
            "Resolving deltas: 100% (17/17), done.\n"
          ]
        }
      ],
      "source": [
        "!git clone https://github.com/RegNLP/ObliQADataset.git"
      ]
    },
    {
      "cell_type": "code",
      "execution_count": 10,
      "metadata": {
        "id": "2SOoFGR7elzV"
      },
      "outputs": [],
      "source": [
        "with open(\"/content/ObliQADataset/ObliQA_test.json\", \"r\") as f:\n",
        "    test_data = json.load(f)"
      ]
    },
    {
      "cell_type": "code",
      "execution_count": 11,
      "metadata": {
        "id": "xm-Vyt6deozt"
      },
      "outputs": [],
      "source": [
        "with open(\"/content/ObliQADataset/ObliQA_train.json\", \"r\") as f:\n",
        "    train_data = json.load(f)"
      ]
    },
    {
      "cell_type": "code",
      "execution_count": 12,
      "metadata": {
        "id": "TIY2XNaYnBBG"
      },
      "outputs": [],
      "source": [
        "with open(\"/content/ObliQADataset/RIRAGSharedTask/RIRAG_Unseen_Questions.json\", \"r\") as f:\n",
        "    unseen_data = json.load(f)"
      ]
    },
    {
      "cell_type": "code",
      "execution_count": 13,
      "metadata": {
        "id": "5c0MLelhV2Di"
      },
      "outputs": [],
      "source": [
        "data = train_data + test_data"
      ]
    },
    {
      "cell_type": "markdown",
      "metadata": {
        "id": "P-cDtXIyXN0I"
      },
      "source": [
        "## Generate Embeddings"
      ]
    },
    {
      "cell_type": "markdown",
      "metadata": {
        "id": "xJ2wyjUTX-vX"
      },
      "source": [
        "### LegalBert"
      ]
    },
    {
      "cell_type": "code",
      "execution_count": 27,
      "metadata": {
        "id": "uUFwI4XpfJ7K"
      },
      "outputs": [],
      "source": [
        "model_path = \"/content/RePASs/models/obligation-classifier-legalbert\"\n",
        "\n",
        "legal_bert_tokenizer = AutoTokenizer.from_pretrained(model_path)\n",
        "legal_bert_model = AutoModel.from_pretrained(model_path, trust_remote_code=True)"
      ]
    },
    {
      "cell_type": "code",
      "execution_count": 14,
      "metadata": {
        "id": "_5yk-IPJsn_Z"
      },
      "outputs": [],
      "source": [
        "def embed_text(text: str):\n",
        "    inputs = legal_bert_tokenizer(text, return_tensors=\"pt\", truncation=True, padding=True)\n",
        "    with torch.no_grad():\n",
        "        outputs = legal_bert_model(**inputs)\n",
        "    return outputs.last_hidden_state.mean(dim=1).detach().numpy()"
      ]
    },
    {
      "cell_type": "code",
      "execution_count": 15,
      "metadata": {
        "id": "57h6FiCnsP6H"
      },
      "outputs": [],
      "source": [
        "corpus = []\n",
        "questions = []\n",
        "bm25_corpus = []\n",
        "\n",
        "for item in data:\n",
        "    questions.append({\"QuestionID\": item[\"QuestionID\"], \"Question\": item[\"Question\"]})\n",
        "    for passage in item[\"Passages\"]:\n",
        "        corpus.append({\"Passage\": passage[\"Passage\"], \"DocumentID\": passage[\"DocumentID\"], \"PassageID\": passage[\"PassageID\"]})\n",
        "        bm25_corpus.append(passage[\"Passage\"])\n",
        "\n",
        "tokenized_corpus = [word_tokenize(doc.lower()) for doc in bm25_corpus]\n",
        "bm25 = BM25Okapi(tokenized_corpus)"
      ]
    },
    {
      "cell_type": "code",
      "execution_count": 17,
      "metadata": {
        "colab": {
          "base_uri": "https://localhost:8080/"
        },
        "id": "F8AaxLW4r1cW",
        "outputId": "ee8dd8bd-7956-400d-896f-2687ec2c997b"
      },
      "outputs": [
        {
          "output_type": "stream",
          "name": "stdout",
          "text": [
            "Embeddings shape: (25081, 768)\n"
          ]
        }
      ],
      "source": [
        "try:\n",
        "    all_question_embeddings = np.load(\"/content/all_question_embeddings.npy\")\n",
        "    print(\"Embeddings shape:\", all_question_embeddings.shape)\n",
        "except Exception as e:\n",
        "    print(f\"An error occurred while loading embeddings: {e}\")"
      ]
    },
    {
      "cell_type": "code",
      "execution_count": 18,
      "metadata": {
        "colab": {
          "base_uri": "https://localhost:8080/"
        },
        "id": "CHLNZub_rG4b",
        "outputId": "7b033c97-bce0-4b8f-e9ca-d7afaa4c19c5"
      },
      "outputs": [
        {
          "output_type": "stream",
          "name": "stdout",
          "text": [
            "FAISS index loaded successfully.\n"
          ]
        }
      ],
      "source": [
        "try:\n",
        "    index_file_path = \"/content/faiss_index.index\"\n",
        "    index = faiss.read_index(index_file_path)\n",
        "    print(\"FAISS index loaded successfully.\")\n",
        "\n",
        "except Exception as e:\n",
        "    print(f\"An error occurred: {e}\")"
      ]
    },
    {
      "cell_type": "code",
      "execution_count": 16,
      "metadata": {
        "colab": {
          "base_uri": "https://localhost:8080/"
        },
        "id": "Nzl1KdT3sRba",
        "outputId": "309f8163-bdbe-4a43-acb4-ea10a2ec30e9"
      },
      "outputs": [
        {
          "output_type": "stream",
          "name": "stdout",
          "text": [
            "Question to ID map loaded successfully.\n"
          ]
        }
      ],
      "source": [
        "try:\n",
        "  with open(\"/content/question_to_id_map.pkl\", \"rb\") as f:\n",
        "    question_to_id_map = pickle.load(f)\n",
        "    print(\"Question to ID map loaded successfully.\")\n",
        "except Exception as e:\n",
        "    print(f\"An error occurred: {e}\")"
      ]
    },
    {
      "cell_type": "markdown",
      "metadata": {
        "id": "fmysWzwyXQ7B"
      },
      "source": [
        "## Set up Graph DB"
      ]
    },
    {
      "cell_type": "code",
      "execution_count": 19,
      "metadata": {
        "id": "8JCcwJIjTSMo"
      },
      "outputs": [],
      "source": [
        "driver = GraphDatabase.driver(NEO_URL, auth=(NEO_USER, NEO_PASS))"
      ]
    },
    {
      "cell_type": "code",
      "execution_count": 20,
      "metadata": {
        "id": "xB6XTufSapjT"
      },
      "outputs": [],
      "source": [
        "def load_data_into_neo4j(data):\n",
        "    with driver.session() as session:\n",
        "        for item in data:\n",
        "            question_id = item[\"QuestionID\"]\n",
        "            question_text = item[\"Question\"]\n",
        "            group_id = item[\"Group\"]\n",
        "\n",
        "            # Create Question node with Group property\n",
        "            session.run(\"\"\"\n",
        "                MERGE (q:Question {QuestionID: $question_id})\n",
        "                ON CREATE SET q.Question = $question_text, q.Group = $group_id\n",
        "            \"\"\", question_id=question_id, question_text=question_text, group_id=group_id)\n",
        "\n",
        "            # Create Group node\n",
        "            session.run(\"\"\"\n",
        "                MERGE (g:Group {GroupID: $group_id})\n",
        "            \"\"\", group_id=group_id)\n",
        "\n",
        "            # Create relationship between Question and Group\n",
        "            session.run(\"\"\"\n",
        "                MATCH (q:Question {QuestionID: $question_id}), (g:Group {GroupID: $group_id})\n",
        "                MERGE (q)-[:QUESTION_IN_GROUP]->(g)\n",
        "            \"\"\", question_id=question_id, group_id=group_id)\n",
        "\n",
        "            # Create Passage nodes and link to Question\n",
        "            for passage in item[\"Passages\"]:\n",
        "                document_id = passage[\"DocumentID\"]\n",
        "                passage_id = passage[\"PassageID\"]\n",
        "                passage_text = passage[\"Passage\"]\n",
        "\n",
        "                # Create Passage node\n",
        "                session.run(\"\"\"\n",
        "                    MERGE (p:Passage {PassageID: $passage_id, DocumentID: $document_id})\n",
        "                    ON CREATE SET p.Passage = $passage_text\n",
        "                \"\"\", passage_id=passage_id, document_id=document_id, passage_text=passage_text)\n",
        "\n",
        "                # Create relationship between Question and Passage\n",
        "                session.run(\"\"\"\n",
        "                    MATCH (q:Question {QuestionID: $question_id}), (p:Passage {PassageID: $passage_id})\n",
        "                    MERGE (q)-[:QUESTION_HAS_PASSAGE]->(p)\n",
        "                \"\"\", question_id=question_id, passage_id=passage_id)"
      ]
    },
    {
      "cell_type": "markdown",
      "metadata": {
        "id": "nCgjV3S0XUMv"
      },
      "source": [
        "## Retrieval Pipeline"
      ]
    },
    {
      "cell_type": "markdown",
      "metadata": {
        "id": "gXg9P4ofbjvE"
      },
      "source": [
        "### Graph Retrieval"
      ]
    },
    {
      "cell_type": "code",
      "execution_count": 45,
      "metadata": {
        "id": "xRuAzcd3bMIO"
      },
      "outputs": [],
      "source": [
        "def get_relevant_graph_passages(question_text, question_id=None):\n",
        "    driver = GraphDatabase.driver(NEO_URL, auth=(NEO_USER, NEO_PASS))\n",
        "    query = \"\"\n",
        "    params = {}\n",
        "\n",
        "    if question_id:\n",
        "        query = \"\"\"\n",
        "            MATCH (q:Question {QuestionID: $question_id})-[:QUESTION_HAS_PASSAGE]->(p:Passage)\n",
        "            RETURN p.PassageID AS passage_id, p.DocumentID AS document_id, p.Passage AS passage_text\n",
        "        \"\"\"\n",
        "        params = {\"question_id\": question_id}\n",
        "    elif question_text:\n",
        "        query = \"\"\"\n",
        "            MATCH (q:Question {Question: $question_text})-[:QUESTION_HAS_PASSAGE]->(p:Passage)\n",
        "            RETURN p.PassageID AS passage_id, p.DocumentID AS document_id, p.Passage AS passage_text\n",
        "        \"\"\"\n",
        "        params = {\"question_text\": question_text}\n",
        "    else:\n",
        "        print(\"Provide either question_id or question_text.\")\n",
        "        return\n",
        "\n",
        "    with driver.session() as session:\n",
        "        result = session.run(query, **params)\n",
        "        passages = [{\"PassageID\": record[\"passage_id\"],\n",
        "                     \"DocumentID\": record[\"document_id\"],\n",
        "                     \"Passage\": record[\"passage_text\"]}\n",
        "                    for record in result]\n",
        "        return passages"
      ]
    },
    {
      "cell_type": "code",
      "execution_count": 46,
      "metadata": {
        "id": "3UxkB_NT8gP2"
      },
      "outputs": [],
      "source": [
        "query = \"How does the FSRA define and evaluate \\\"principal risks and uncertainties\\\" for a Petroleum Reporting Entity, particularly for the remaining six months of the financial year?\"\n",
        "query_id = \"7073c16e-1974-4051-9064-9f5706c663c7\""
      ]
    },
    {
      "cell_type": "code",
      "execution_count": 47,
      "metadata": {
        "colab": {
          "base_uri": "https://localhost:8080/"
        },
        "id": "rbzmrzcm8hnI",
        "outputId": "c4303508-7c08-4e4e-b674-ca8210cfa64a"
      },
      "outputs": [
        {
          "output_type": "stream",
          "name": "stdout",
          "text": [
            "{'PassageID': '10.1.7.(2)', 'DocumentID': 11, 'Passage': 'A Reporting Entity must:\\n(a)\\tprepare such report:\\n(i)\\tfor the first six months of each financial year or period, and if there is a change to the accounting reference date, prepare such report in respect of the period up to the old accounting reference date; and\\n(ii)\\tin accordance with the applicable IFRS standards or other standards acceptable to the Regulator;\\n(b)\\tensure the financial statements have either been audited or reviewed by auditors, and the audit or review by the auditor is included within the report; and\\n(c)\\tensure that the report includes:\\n(i)\\texcept in the case of a Mining Exploration Reporting Entity or a Petroleum Exploration Reporting Entity, an indication of important events that have occurred during the first six months of the financial year, and their impact on the financial statements;\\n(ii)\\texcept in the case of a Mining Exploration Reporting Entity or a Petroleum Exploration Reporting Entity, a description of the principal risks and uncertainties for the remaining six months of the financial year; and\\n(iii)\\ta condensed set of financial statements, an interim management report and associated responsibility statements.'}\n"
          ]
        }
      ],
      "source": [
        "for passage in get_relevant_graph_passages(question_text=query):\n",
        "    print(passage)"
      ]
    },
    {
      "cell_type": "markdown",
      "metadata": {
        "id": "0WdIFlcYbzUO"
      },
      "source": [
        "### Contextual Retrieval"
      ]
    },
    {
      "cell_type": "code",
      "execution_count": 28,
      "metadata": {
        "id": "UKO82oWqPWng"
      },
      "outputs": [],
      "source": [
        "def get_relevant_vector_passages(query, question_id=None, top_k=10):\n",
        "    query_tokens = word_tokenize(query.lower())\n",
        "    bm25_scores = bm25.get_scores(query_tokens)\n",
        "    top_bm25_indices = np.argsort(bm25_scores)[-top_k:][::-1]\n",
        "    top_bm25_passages = [\n",
        "        {\n",
        "            \"PassageID\": bm25_corpus[i].get(\"PassageID\") if isinstance(bm25_corpus[i], dict) else \"Unknown\",\n",
        "            \"DocumentID\": bm25_corpus[i].get(\"DocumentID\") if isinstance(bm25_corpus[i], dict) else \"Unknown\",\n",
        "            \"Passage\": bm25_corpus[i].get(\"Passage\") if isinstance(bm25_corpus[i], dict) else \"Unknown\",\n",
        "            \"Score\": bm25_scores[i]\n",
        "        }\n",
        "        for i in top_bm25_indices\n",
        "    ]\n",
        "\n",
        "    query_embedding = embed_text(query).flatten().reshape(1, -1)\n",
        "    faiss_distances, faiss_indices = index.search(query_embedding, k=top_k)\n",
        "    top_faiss_passages = [\n",
        "        {\n",
        "            \"PassageID\": corpus[i][\"PassageID\"],\n",
        "            \"DocumentID\": corpus[i][\"DocumentID\"],\n",
        "            \"Passage\": corpus[i][\"Passage\"],\n",
        "            \"Score\": 1 - faiss_distances[0][idx]\n",
        "        }\n",
        "        for idx, i in enumerate(faiss_indices[0])\n",
        "    ]\n",
        "\n",
        "    combined_passages = {}\n",
        "    for passage in top_bm25_passages + top_faiss_passages:\n",
        "        passage_id = passage[\"PassageID\"]\n",
        "        if passage_id not in combined_passages:\n",
        "            combined_passages[passage_id] = passage\n",
        "        else:\n",
        "            combined_passages[passage_id][\"Score\"] = max(\n",
        "                combined_passages[passage_id][\"Score\"], passage[\"Score\"]\n",
        "            )\n",
        "\n",
        "    combined_passages_list = list(combined_passages.values())\n",
        "    combined_embeddings = [embed_text(passage[\"Passage\"]).flatten() for passage in combined_passages_list]\n",
        "\n",
        "    question_embedding = all_question_embeddings[question_to_id_map[question_id]]\n",
        "    similarities = cosine_similarity([question_embedding], combined_embeddings).flatten()\n",
        "\n",
        "    for idx, passage in enumerate(combined_passages_list):\n",
        "        passage[\"Score\"] = similarities[idx]\n",
        "\n",
        "    ranked_passages = sorted(\n",
        "        combined_passages_list,\n",
        "        key=lambda x: x[\"Score\"],\n",
        "        reverse=True\n",
        "    )\n",
        "\n",
        "    for rank, passage in enumerate(ranked_passages[:top_k], start=1):\n",
        "        passage[\"Rank\"] = rank\n",
        "\n",
        "    return ranked_passages[:top_k]"
      ]
    },
    {
      "cell_type": "code",
      "execution_count": 29,
      "metadata": {
        "colab": {
          "base_uri": "https://localhost:8080/"
        },
        "id": "Ja0mCnTXojC_",
        "outputId": "07bc40cf-0dcc-4492-9cd4-74def431ccec"
      },
      "outputs": [
        {
          "output_type": "stream",
          "name": "stdout",
          "text": [
            "Top Relevant Passages:\n",
            "{'PassageID': '37)', 'DocumentID': 28, 'Passage': 'BECOMING AWARE OF INSIDE INFORMATION\\nIn considering the operation of Rule 7.2.1,  the concept of ‘awareness’, or knowledge, of Inside Information is central to operation of FSRA’s continuous disclosure framework.  In interpreting Rule 7.2.1, the Listing Authority considers that a Reporting Entity  becomes ‘aware’ of Inside Information if, and as soon as, an Officer  of the Reporting Entity has, or ought reasonably to have, come into possession of the Inside Information in the course of the performance of their duties as an Officer of that Reporting Entity.\\n', 'Score': 0.7444859, 'Rank': 1}\n",
            "{'PassageID': '6.5', 'DocumentID': 39, 'Passage': 'The Regulator will withdraw its permission to use an ADGM mark if a product or service fails to, or chooses not to, maintain the corresponding designation.', 'Score': 0.56410515, 'Rank': 2}\n",
            "{'PassageID': '10.1.7.(2)', 'DocumentID': 11, 'Passage': 'A Reporting Entity must:\\n(a)\\tprepare such report:\\n(i)\\tfor the first six months of each financial year or period, and if there is a change to the accounting reference date, prepare such report in respect of the period up to the old accounting reference date; and\\n(ii)\\tin accordance with the applicable IFRS standards or other standards acceptable to the Regulator;\\n(b)\\tensure the financial statements have either been audited or reviewed by auditors, and the audit or review by the auditor is included within the report; and\\n(c)\\tensure that the report includes:\\n(i)\\texcept in the case of a Mining Exploration Reporting Entity or a Petroleum Exploration Reporting Entity, an indication of important events that have occurred during the first six months of the financial year, and their impact on the financial statements;\\n(ii)\\texcept in the case of a Mining Exploration Reporting Entity or a Petroleum Exploration Reporting Entity, a description of the principal risks and uncertainties for the remaining six months of the financial year; and\\n(iii)\\ta condensed set of financial statements, an interim management report and associated responsibility statements.', 'Score': 0.5357753, 'Rank': 3}\n",
            "{'PassageID': '19)', 'DocumentID': 19, 'Passage': 'FEATURES OF THE VIRTUAL ASSET FRAMEWORK\\nRegulated Activities in relation to Virtual Assets\\nCOBS Rule 17.1.3 operates such that ‘Client Investments’ in GEN and ‘Financial Instruments’ in CMC are read to include Virtual Assets. This means that the various Rules using these terms throughout the FSRA Rulebooks are expanded to capture Virtual Assets, including in particular the Rules contained in Chapters 3 and 6 of COBS.\\n', 'Score': 0.49848902, 'Rank': 4}\n",
            "{'PassageID': '92)', 'DocumentID': 33, 'Passage': 'DIGITAL SECURITIES – INTERMEDIARIES\\nIntermediaries conducting a Regulated Activity in relation to Virtual Assets – Extension into Digital Securities\\nVirtual Asset Custodians may apply to the FSRA to be a DSF in order to provide custody of Digital Securities.  Refer to paragraphs 73 to 75 for further information on the requirements that will apply.\\n', 'Score': 0.48864722, 'Rank': 5}\n",
            "{'PassageID': '8.3.2.Guidance on CDD.9.', 'DocumentID': 1, 'Passage': 'When employing an eKYC System to assist with CDD, a Relevant Person should:\\na.\\tensure that it has a thorough understanding of the eKYC System itself and the risks of eKYC, including those outlined by relevant guidance from FATF and other international standard setting bodies;\\nb.\\tcomply with all the Rules of the Regulator relevant to eKYC including, but not limited to, applicable requirements regarding the business risk assessment, as per Rule \\u200e6.1, and outsourcing, as per Rule \\u200e9.3;\\nc.\\tcombine eKYC with transaction monitoring, anti-fraud and cyber-security measures to support a wider framework preventing applicable Financial Crime; and\\nd.\\ttake appropriate steps to identify, assess and mitigate the risk of the eKYC system being misused for the purposes of Financial Crime.', 'Score': 0.4715017, 'Rank': 6}\n",
            "{'PassageID': '8.6.1', 'DocumentID': 1, 'Passage': \"When undertaking ongoing CDD under Rule \\u200e8.3.1(1)(d), a Relevant Person must:\\n(a)\\tmonitor Transactions undertaken during the course of its customer relationship to ensure that the Transactions are consistent with the Relevant Person's knowledge of the customer, his business and risk rating;\\n(b)\\tpay particular attention to any complex or unusually large Transactions or unusual patterns of Transactions that have no apparent or visible economic or legitimate purpose;\\n(c)\\tenquire into the background and purpose of the Transactions in (b);\\n(d)\\tperiodically review the adequacy of the CDD information it holds on customers and Beneficial Owners to ensure that the information is kept up to date, particularly for customers with a high-risk rating; and\\n(e)\\tperiodically review each customer to ensure that the risk rating assigned to a customer under Rule \\u200e7.1.1(1)(b) remains appropriate for the customer in light of the money laundering risks.\", 'Score': 0.44514585, 'Rank': 7}\n",
            "{'PassageID': '9.1.1.(3)', 'DocumentID': 1, 'Passage': 'Where a Relevant Person seeks to rely on a Person in (1) it may only do so if and to the extent that:\\n(a)\\tit immediately obtains the necessary CDD information from the third party in (1);\\n(b)\\tit takes adequate steps to satisfy itself that certified copies of the documents used to undertake the relevant elements of CDD will be available from the third party on request without delay;\\n(c)\\tthe Person in (1)(b) to (d) is subject to regulation, including AML/TFS compliance requirements, by a Non-ADGM Financial Services Regulator or other competent authority in a country with AML/TFS regulations which are equivalent to the standards set out in the FATF Recommendations and it is supervised for compliance with such regulations;\\n(d)\\tthe Person in (1) has not relied on any exception from the requirement to conduct any relevant elements of CDD which the Relevant Person seeks to rely on; and\\n(e)\\tin relation to (2), the information is up to date.', 'Score': 0.43024626, 'Rank': 8}\n",
            "{'PassageID': 'Part 6.Chapter 6.78.(5)', 'DocumentID': 14, 'Passage': 'For the purposes of supporting, or giving full effect to, a Recognised Foreign Resolution Action, the Regulator may exercise one or more Resolution Tools, or one or more Resolution Powers, subject to any requirement for ex-ante judicial approval in compliance with section 27.', 'Score': 0.42857915, 'Rank': 9}\n",
            "{'PassageID': '5.2.7', 'DocumentID': 7, 'Passage': 'Consideration and assessment of applications: In order to become authorised to carry on one or more Regulated Activities, the applicant must demonstrate to the satisfaction of the Regulator that it:\\n(1)\\thas adequate and appropriate resources, including financial resources;\\n(2)\\tis fit and proper;\\n(3)\\tis capable of being effectively supervised; and\\n(4)\\thas adequate compliance arrangements, including policies and procedures, that will enable it to comply with all the applicable legal requirements, including the Rules.\\n\\n', 'Score': 0.379542, 'Rank': 10}\n"
          ]
        }
      ],
      "source": [
        "top_passages = get_relevant_vector_passages(query, query_id)\n",
        "print(\"Top Relevant Passages:\")\n",
        "for passage in top_passages:\n",
        "    print(passage)"
      ]
    },
    {
      "cell_type": "code",
      "execution_count": 26,
      "metadata": {
        "colab": {
          "base_uri": "https://localhost:8080/",
          "height": 301,
          "referenced_widgets": [
            "f205efe4a7da4114b8efe42688f5a0cd",
            "dc71a07079f04f999ac6a1580d24d811",
            "032afe0cd70e404090a0a82c4ba0a809",
            "08d330a3c2ff4c8b8b231eef3c5c82d8",
            "8f8aa85aaf6348cf8341fd7055b59352",
            "f079939f33774a54aabec9dfdfc1bf6a",
            "b7d70fced0f441c0bde350e6dd85e70a",
            "04ef34a0489f4b9a98cbd5cf5786c30a",
            "9263dd074957450f95ed13a686678d0e",
            "d3173392d39b4a81acc1f5a51323e1d7",
            "bca08eef2c074a4d84b7b10886505785",
            "5468f960aff34499b5d2da10e763400e",
            "e07e9f851fac4bb8a9b5e6e91c359785",
            "a9ab0aa4a7c84c3eb2ee62b819fd4115",
            "05a0de9948f14f03af9f2a9448e69289",
            "8f4ba4ab08cd41579f611728cc821724",
            "19d34a86d0d84121bfd56ec8a608025c",
            "d896b29781304438ab9a6f3adff5d8b6",
            "e137631d55aa4eacbf873d8acaeba32a",
            "bf6be4e7127348a9876f3e4a498c5a98",
            "10266700190342bd9f0f62a6fb396883",
            "453cc00d5d724b7da7ffab174fe28460",
            "3aad9b9460624deaa9ad838509d513f7",
            "9e85f9dcc6e54025bf5f1f1e0ab208f7",
            "a0210ee7810345e5baf9536b66e361eb",
            "6b6e2ec03f224302834d1f9a0c634fbd",
            "32de4dae047343fd85d7a4b69125ba83",
            "66479e517086422887ebb23a11c857da",
            "e861962b683d4567bafa815b02b85712",
            "7df374a09eae4987a7c94dc4d7700b99",
            "4d2d1ad1ef5d46dab3f9346d74d7c3f6",
            "410e71d29bfb4fc8a8cfb327123001c2",
            "d0192147f7cb45be85994b71fd775899",
            "8941932e87a64e1294164b91aee88c41",
            "45d26fbb968c42de827b4dff5a2a4856",
            "a97ef700d59c4a59bd46c243413e025c",
            "5c9ae064258e4ba8ab882a2e9f31d29a",
            "870611aaeb774861a748d8d0f37241a7",
            "af9b4b0fe3874af4b2fd22b0024f4f41",
            "caa3a149d68a4145aac3d7cbc09b5fb0",
            "511d3dc425bf4554a5aaebc86b4a7492",
            "3e66828de0ac40dd9007810f762e8a0e",
            "1e90f8836b5c4a478e0939dab1c6db83",
            "4fd21961616c4a7794348a9b3f57c953",
            "228ab894a04644b1a0fbef22233bf7c0",
            "034eac5aa6924abd92674b4be8d064c0",
            "517d54ebf7a54a709015dc6060050c0c",
            "0f1692ae66b04597b618d279d46f4178",
            "c232f70015954456926bd7dce8b1f0f6",
            "252d1972972c402683e34b6e19323429",
            "9632e9f69f824ea7a1220713bb6611e7",
            "86a40a7c72b34e968f57cc83698250e1",
            "c4ebdb91d2124697b4a792ed670b2f7d",
            "15e1dc4a6ef04b5181ca949d4d1958ff",
            "b552f32f21bc407899b6dbc098813650"
          ]
        },
        "id": "tuLcIq_nuuc-",
        "outputId": "1a419621-4a05-4da4-b34d-b6a726a2135c"
      },
      "outputs": [
        {
          "output_type": "stream",
          "name": "stderr",
          "text": [
            "/usr/local/lib/python3.10/dist-packages/huggingface_hub/utils/_auth.py:94: UserWarning: \n",
            "The secret `HF_TOKEN` does not exist in your Colab secrets.\n",
            "To authenticate with the Hugging Face Hub, create a token in your settings tab (https://huggingface.co/settings/tokens), set it as secret in your Google Colab and restart your session.\n",
            "You will be able to reuse this secret in all of your notebooks.\n",
            "Please note that authentication is recommended but still optional to access public models or datasets.\n",
            "  warnings.warn(\n"
          ]
        },
        {
          "output_type": "display_data",
          "data": {
            "text/plain": [
              "tokenizer_config.json:   0%|          | 0.00/316 [00:00<?, ?B/s]"
            ],
            "application/vnd.jupyter.widget-view+json": {
              "version_major": 2,
              "version_minor": 0,
              "model_id": "f205efe4a7da4114b8efe42688f5a0cd"
            }
          },
          "metadata": {}
        },
        {
          "output_type": "display_data",
          "data": {
            "text/plain": [
              "config.json:   0%|          | 0.00/794 [00:00<?, ?B/s]"
            ],
            "application/vnd.jupyter.widget-view+json": {
              "version_major": 2,
              "version_minor": 0,
              "model_id": "5468f960aff34499b5d2da10e763400e"
            }
          },
          "metadata": {}
        },
        {
          "output_type": "display_data",
          "data": {
            "text/plain": [
              "vocab.txt:   0%|          | 0.00/232k [00:00<?, ?B/s]"
            ],
            "application/vnd.jupyter.widget-view+json": {
              "version_major": 2,
              "version_minor": 0,
              "model_id": "3aad9b9460624deaa9ad838509d513f7"
            }
          },
          "metadata": {}
        },
        {
          "output_type": "display_data",
          "data": {
            "text/plain": [
              "special_tokens_map.json:   0%|          | 0.00/112 [00:00<?, ?B/s]"
            ],
            "application/vnd.jupyter.widget-view+json": {
              "version_major": 2,
              "version_minor": 0,
              "model_id": "8941932e87a64e1294164b91aee88c41"
            }
          },
          "metadata": {}
        },
        {
          "output_type": "display_data",
          "data": {
            "text/plain": [
              "pytorch_model.bin:   0%|          | 0.00/90.9M [00:00<?, ?B/s]"
            ],
            "application/vnd.jupyter.widget-view+json": {
              "version_major": 2,
              "version_minor": 0,
              "model_id": "228ab894a04644b1a0fbef22233bf7c0"
            }
          },
          "metadata": {}
        }
      ],
      "source": [
        "tokenizer = AutoTokenizer.from_pretrained(\"cross-encoder/ms-marco-MiniLM-L-6-v2\")\n",
        "model = AutoModelForSequenceClassification.from_pretrained(\"cross-encoder/ms-marco-MiniLM-L-6-v2\")\n",
        "device = torch.device(\"cuda\" if torch.cuda.is_available() else \"cpu\")\n",
        "model = model.to(device)\n",
        "\n",
        "def bert_rerank(query, passages, top_k):\n",
        "    inputs = tokenizer([query] * len(passages), passages, padding=True, truncation=True, return_tensors=\"pt\").to(device)\n",
        "    with torch.no_grad():\n",
        "        outputs = model(**inputs)\n",
        "        scores = outputs.logits.squeeze().cpu().numpy()\n",
        "\n",
        "    scored_passages = [{\"PassageID\": i, \"Passage\": passages[i], \"Score\": scores[i]} for i in range(len(passages))]\n",
        "    reranked_passages = sorted(scored_passages, key=lambda x: x[\"Score\"], reverse=True)\n",
        "\n",
        "    return reranked_passages[:top_k]"
      ]
    },
    {
      "cell_type": "markdown",
      "metadata": {
        "id": "vbmvrNE8jQjb"
      },
      "source": [
        "## Hybrid Retrieval"
      ]
    },
    {
      "cell_type": "code",
      "execution_count": 30,
      "metadata": {
        "id": "xoBQe5QFVlPV"
      },
      "outputs": [],
      "source": [
        "def hybrid_retrieval(query, question_id=None, top_k=10):\n",
        "    \"\"\"\n",
        "    Hybrid retrieval function that combines results from contextual (BM25/FAISS) and graph-based (Neo4j) retrieval methods,\n",
        "    and reranks them using a BERT-based model or another ranking method.\n",
        "    \"\"\"\n",
        "    if not isinstance(query, str):\n",
        "        raise ValueError(f\"Query should be a string, but got {type(query)}\")\n",
        "\n",
        "    graph_results = get_relevant_graph_passages(query, question_id)\n",
        "    graph_passages = [\n",
        "        {\n",
        "            \"PassageID\": result[\"PassageID\"],\n",
        "            \"DocumentID\": result[\"DocumentID\"],\n",
        "            \"Passage\": result[\"Passage\"],\n",
        "            \"Score\": result.get(\"Score\", 0)\n",
        "        }\n",
        "        for result in graph_results\n",
        "    ]\n",
        "\n",
        "    contextual_results = get_relevant_vector_passages(query, question_id, top_k=top_k)\n",
        "    contextual_passages = [\n",
        "        {\n",
        "            \"PassageID\": passage[\"PassageID\"],\n",
        "            \"DocumentID\": passage[\"DocumentID\"],\n",
        "            \"Passage\": passage[\"Passage\"],\n",
        "            \"Score\": passage[\"Score\"]\n",
        "        }\n",
        "        for passage in contextual_results\n",
        "    ]\n",
        "\n",
        "    combined_passages = {}\n",
        "    for passage in graph_passages + contextual_passages:\n",
        "        passage_id = passage[\"PassageID\"]\n",
        "        if passage_id not in combined_passages:\n",
        "            combined_passages[passage_id] = passage\n",
        "        else:\n",
        "            combined_passages[passage_id][\"Score\"] = max(\n",
        "                combined_passages[passage_id][\"Score\"], passage[\"Score\"]\n",
        "            )\n",
        "\n",
        "    combined_passages_list = list(combined_passages.values())\n",
        "    passages_for_rerank = [p[\"Passage\"] for p in combined_passages_list]\n",
        "\n",
        "    if not all(isinstance(p, str) for p in passages_for_rerank):\n",
        "        raise ValueError(f\"All passages should be strings, but found: {type(passages_for_rerank[0])}\")\n",
        "\n",
        "    reranked_results = bert_rerank(query, passages_for_rerank, top_k=top_k)\n",
        "\n",
        "    ranked_passages = []\n",
        "    for rank, reranked_passage in enumerate(reranked_results, start=1):\n",
        "        ranked_passages.append({\n",
        "            \"PassageID\": next(\n",
        "                (p[\"PassageID\"] for p in combined_passages_list if p[\"Passage\"] == reranked_passage[\"Passage\"]),\n",
        "                \"Unknown\"\n",
        "            ),\n",
        "            \"DocumentID\": next(\n",
        "                (p[\"DocumentID\"] for p in combined_passages_list if p[\"Passage\"] == reranked_passage[\"Passage\"]),\n",
        "                \"Unknown\"\n",
        "            ),\n",
        "            \"Passage\": reranked_passage[\"Passage\"],\n",
        "            \"Score\": reranked_passage[\"Score\"],\n",
        "            \"Rank\": rank\n",
        "        })\n",
        "\n",
        "    return ranked_passages"
      ]
    },
    {
      "cell_type": "code",
      "execution_count": 31,
      "metadata": {
        "colab": {
          "base_uri": "https://localhost:8080/"
        },
        "id": "2VSRGA5MyN56",
        "outputId": "894b344b-e015-4532-fc9e-8b66a462d820"
      },
      "outputs": [
        {
          "output_type": "stream",
          "name": "stdout",
          "text": [
            "Top Relevant Passages:\n",
            "\n",
            "\n",
            "{'PassageID': '10.1.7.(2)', 'DocumentID': 11, 'Passage': 'A Reporting Entity must:\\n(a)\\tprepare such report:\\n(i)\\tfor the first six months of each financial year or period, and if there is a change to the accounting reference date, prepare such report in respect of the period up to the old accounting reference date; and\\n(ii)\\tin accordance with the applicable IFRS standards or other standards acceptable to the Regulator;\\n(b)\\tensure the financial statements have either been audited or reviewed by auditors, and the audit or review by the auditor is included within the report; and\\n(c)\\tensure that the report includes:\\n(i)\\texcept in the case of a Mining Exploration Reporting Entity or a Petroleum Exploration Reporting Entity, an indication of important events that have occurred during the first six months of the financial year, and their impact on the financial statements;\\n(ii)\\texcept in the case of a Mining Exploration Reporting Entity or a Petroleum Exploration Reporting Entity, a description of the principal risks and uncertainties for the remaining six months of the financial year; and\\n(iii)\\ta condensed set of financial statements, an interim management report and associated responsibility statements.', 'Score': 1.4016562, 'Rank': 1}\n",
            "{'PassageID': '37)', 'DocumentID': 28, 'Passage': 'BECOMING AWARE OF INSIDE INFORMATION\\nIn considering the operation of Rule 7.2.1,  the concept of ‘awareness’, or knowledge, of Inside Information is central to operation of FSRA’s continuous disclosure framework.  In interpreting Rule 7.2.1, the Listing Authority considers that a Reporting Entity  becomes ‘aware’ of Inside Information if, and as soon as, an Officer  of the Reporting Entity has, or ought reasonably to have, come into possession of the Inside Information in the course of the performance of their duties as an Officer of that Reporting Entity.\\n', 'Score': -3.0922306, 'Rank': 2}\n",
            "{'PassageID': '92)', 'DocumentID': 33, 'Passage': 'DIGITAL SECURITIES – INTERMEDIARIES\\nIntermediaries conducting a Regulated Activity in relation to Virtual Assets – Extension into Digital Securities\\nVirtual Asset Custodians may apply to the FSRA to be a DSF in order to provide custody of Digital Securities.  Refer to paragraphs 73 to 75 for further information on the requirements that will apply.\\n', 'Score': -4.9247684, 'Rank': 3}\n",
            "{'PassageID': '19)', 'DocumentID': 19, 'Passage': 'FEATURES OF THE VIRTUAL ASSET FRAMEWORK\\nRegulated Activities in relation to Virtual Assets\\nCOBS Rule 17.1.3 operates such that ‘Client Investments’ in GEN and ‘Financial Instruments’ in CMC are read to include Virtual Assets. This means that the various Rules using these terms throughout the FSRA Rulebooks are expanded to capture Virtual Assets, including in particular the Rules contained in Chapters 3 and 6 of COBS.\\n', 'Score': -7.2353573, 'Rank': 4}\n",
            "{'PassageID': '8.6.1', 'DocumentID': 1, 'Passage': \"When undertaking ongoing CDD under Rule \\u200e8.3.1(1)(d), a Relevant Person must:\\n(a)\\tmonitor Transactions undertaken during the course of its customer relationship to ensure that the Transactions are consistent with the Relevant Person's knowledge of the customer, his business and risk rating;\\n(b)\\tpay particular attention to any complex or unusually large Transactions or unusual patterns of Transactions that have no apparent or visible economic or legitimate purpose;\\n(c)\\tenquire into the background and purpose of the Transactions in (b);\\n(d)\\tperiodically review the adequacy of the CDD information it holds on customers and Beneficial Owners to ensure that the information is kept up to date, particularly for customers with a high-risk rating; and\\n(e)\\tperiodically review each customer to ensure that the risk rating assigned to a customer under Rule \\u200e7.1.1(1)(b) remains appropriate for the customer in light of the money laundering risks.\", 'Score': -9.300163, 'Rank': 5}\n",
            "{'PassageID': '8.3.2.Guidance on CDD.9.', 'DocumentID': 1, 'Passage': 'When employing an eKYC System to assist with CDD, a Relevant Person should:\\na.\\tensure that it has a thorough understanding of the eKYC System itself and the risks of eKYC, including those outlined by relevant guidance from FATF and other international standard setting bodies;\\nb.\\tcomply with all the Rules of the Regulator relevant to eKYC including, but not limited to, applicable requirements regarding the business risk assessment, as per Rule \\u200e6.1, and outsourcing, as per Rule \\u200e9.3;\\nc.\\tcombine eKYC with transaction monitoring, anti-fraud and cyber-security measures to support a wider framework preventing applicable Financial Crime; and\\nd.\\ttake appropriate steps to identify, assess and mitigate the risk of the eKYC system being misused for the purposes of Financial Crime.', 'Score': -9.318468, 'Rank': 6}\n",
            "{'PassageID': '6.5', 'DocumentID': 39, 'Passage': 'The Regulator will withdraw its permission to use an ADGM mark if a product or service fails to, or chooses not to, maintain the corresponding designation.', 'Score': -10.331339, 'Rank': 7}\n",
            "{'PassageID': '5.2.7', 'DocumentID': 7, 'Passage': 'Consideration and assessment of applications: In order to become authorised to carry on one or more Regulated Activities, the applicant must demonstrate to the satisfaction of the Regulator that it:\\n(1)\\thas adequate and appropriate resources, including financial resources;\\n(2)\\tis fit and proper;\\n(3)\\tis capable of being effectively supervised; and\\n(4)\\thas adequate compliance arrangements, including policies and procedures, that will enable it to comply with all the applicable legal requirements, including the Rules.\\n\\n', 'Score': -10.39504, 'Rank': 8}\n",
            "{'PassageID': 'Part 6.Chapter 6.78.(5)', 'DocumentID': 14, 'Passage': 'For the purposes of supporting, or giving full effect to, a Recognised Foreign Resolution Action, the Regulator may exercise one or more Resolution Tools, or one or more Resolution Powers, subject to any requirement for ex-ante judicial approval in compliance with section 27.', 'Score': -10.649045, 'Rank': 9}\n",
            "{'PassageID': '9.1.1.(3)', 'DocumentID': 1, 'Passage': 'Where a Relevant Person seeks to rely on a Person in (1) it may only do so if and to the extent that:\\n(a)\\tit immediately obtains the necessary CDD information from the third party in (1);\\n(b)\\tit takes adequate steps to satisfy itself that certified copies of the documents used to undertake the relevant elements of CDD will be available from the third party on request without delay;\\n(c)\\tthe Person in (1)(b) to (d) is subject to regulation, including AML/TFS compliance requirements, by a Non-ADGM Financial Services Regulator or other competent authority in a country with AML/TFS regulations which are equivalent to the standards set out in the FATF Recommendations and it is supervised for compliance with such regulations;\\n(d)\\tthe Person in (1) has not relied on any exception from the requirement to conduct any relevant elements of CDD which the Relevant Person seeks to rely on; and\\n(e)\\tin relation to (2), the information is up to date.', 'Score': -10.796112, 'Rank': 10}\n"
          ]
        }
      ],
      "source": [
        "top_passages = hybrid_retrieval(query, query_id)\n",
        "print(\"Top Relevant Passages:\\n\\n\")\n",
        "for passage in top_passages:\n",
        "    print(passage)"
      ]
    },
    {
      "cell_type": "markdown",
      "metadata": {
        "id": "NIVG5t3FXWnG"
      },
      "source": [
        "## TREC Evaluation"
      ]
    },
    {
      "cell_type": "code",
      "execution_count": 24,
      "metadata": {
        "id": "XfkoH-7gMLyK"
      },
      "outputs": [],
      "source": [
        "def load_qrels(docs_dir: str, fqrels: str) -> Dict[str, Dict[str, int]]:\n",
        "    ndocs = 40\n",
        "    docs = []\n",
        "    for i in range(1, ndocs + 1):\n",
        "        with open(os.path.join(docs_dir, f\"{i}.json\")) as f:\n",
        "            doc = json.load(f)\n",
        "            docs.append(doc)\n",
        "\n",
        "    did2pid2id: Dict[str, Dict[str, str]] = {}\n",
        "    for doc in docs:\n",
        "        for psg in doc:\n",
        "            did2pid2id.setdefault(psg[\"DocumentID\"], {})\n",
        "            assert psg[\"ID\"] not in did2pid2id[psg[\"DocumentID\"]]\n",
        "            did2pid2id[psg[\"DocumentID\"]].setdefault(psg[\"PassageID\"], psg[\"ID\"])\n",
        "\n",
        "    with open(fqrels) as f:\n",
        "        data = json.load(f)\n",
        "    qrels = {}\n",
        "    for e in data:\n",
        "        qid = e[\"QuestionID\"]\n",
        "        for psg in e[\"Passages\"]:\n",
        "            qrels.setdefault(qid, {})\n",
        "            pid = did2pid2id[psg[\"DocumentID\"]][psg[\"PassageID\"]]\n",
        "            qrels[qid][pid] = 1\n",
        "    return did2pid2id, qrels"
      ]
    },
    {
      "cell_type": "code",
      "execution_count": 25,
      "metadata": {
        "id": "G3AguLV6MORd"
      },
      "outputs": [],
      "source": [
        "did2pid2id, qrels = load_qrels(\"/content/ObliQADataset/StructuredRegulatoryDocuments\", \"/content/ObliQADataset/ObliQA_test.json\")\n",
        "with open(\"qrels\", \"w\") as f:\n",
        "    for qid, rels in qrels.items():\n",
        "        for pid, rel in rels.items():\n",
        "            line = f\"{qid} Q0 {pid} {rel}\"\n",
        "            f.write(line + \"\\n\")"
      ]
    },
    {
      "cell_type": "code",
      "execution_count": 38,
      "metadata": {
        "id": "lsUx2BYPB9QA"
      },
      "outputs": [],
      "source": [
        "with open('rankings.trec','w') as f:\n",
        "  for question in test_data:\n",
        "    query=question['Question']\n",
        "    query_id=question['QuestionID']\n",
        "    retrieved_docs=hybrid_retrieval(query, query_id)\n",
        "    for doc_index,doc in enumerate(retrieved_docs,start=1):\n",
        "      doc_id=doc['DocumentID']\n",
        "      passage_id=doc['PassageID']\n",
        "      pid = did2pid2id.get(doc_id, {}).get(passage_id, passage_id)\n",
        "      if not pid:\n",
        "        print(f\"No matching PID found for doc_id: {doc_id}, passage_id: {passage_id}\")\n",
        "        continue\n",
        "      passage=doc['Passage']\n",
        "      score=doc['Score']\n",
        "      f.write(f\"{query_id} 0 {pid} {doc_index} {score} hybret\\n\")"
      ]
    },
    {
      "cell_type": "code",
      "execution_count": 39,
      "metadata": {
        "id": "eXOWnT9snKhe",
        "colab": {
          "base_uri": "https://localhost:8080/",
          "height": 17
        },
        "outputId": "0801e52a-c658-4254-e6a9-518ad27fb178"
      },
      "outputs": [
        {
          "output_type": "display_data",
          "data": {
            "text/plain": [
              "<IPython.core.display.Javascript object>"
            ],
            "application/javascript": [
              "\n",
              "    async function download(id, filename, size) {\n",
              "      if (!google.colab.kernel.accessAllowed) {\n",
              "        return;\n",
              "      }\n",
              "      const div = document.createElement('div');\n",
              "      const label = document.createElement('label');\n",
              "      label.textContent = `Downloading \"${filename}\": `;\n",
              "      div.appendChild(label);\n",
              "      const progress = document.createElement('progress');\n",
              "      progress.max = size;\n",
              "      div.appendChild(progress);\n",
              "      document.body.appendChild(div);\n",
              "\n",
              "      const buffers = [];\n",
              "      let downloaded = 0;\n",
              "\n",
              "      const channel = await google.colab.kernel.comms.open(id);\n",
              "      // Send a message to notify the kernel that we're ready.\n",
              "      channel.send({})\n",
              "\n",
              "      for await (const message of channel.messages) {\n",
              "        // Send a message to notify the kernel that we're ready.\n",
              "        channel.send({})\n",
              "        if (message.buffers) {\n",
              "          for (const buffer of message.buffers) {\n",
              "            buffers.push(buffer);\n",
              "            downloaded += buffer.byteLength;\n",
              "            progress.value = downloaded;\n",
              "          }\n",
              "        }\n",
              "      }\n",
              "      const blob = new Blob(buffers, {type: 'application/binary'});\n",
              "      const a = document.createElement('a');\n",
              "      a.href = window.URL.createObjectURL(blob);\n",
              "      a.download = filename;\n",
              "      div.appendChild(a);\n",
              "      a.click();\n",
              "      div.remove();\n",
              "    }\n",
              "  "
            ]
          },
          "metadata": {}
        },
        {
          "output_type": "display_data",
          "data": {
            "text/plain": [
              "<IPython.core.display.Javascript object>"
            ],
            "application/javascript": [
              "download(\"download_220d867c-6ad9-45d0-baca-f78e6e6a097b\", \"rankings.trec\", 2888848)"
            ]
          },
          "metadata": {}
        }
      ],
      "source": [
        "from google.colab import files\n",
        "\n",
        "files.download('/content/rankings.trec')"
      ]
    },
    {
      "cell_type": "code",
      "execution_count": 41,
      "metadata": {
        "id": "IaFSQGbmz46f",
        "colab": {
          "base_uri": "https://localhost:8080/"
        },
        "outputId": "afed5122-109d-48ec-97f3-c766fcb02d30"
      },
      "outputs": [
        {
          "output_type": "stream",
          "name": "stdout",
          "text": [
            "recall_10             \tall\t0.7938\n",
            "map_cut_10            \tall\t0.7474\n"
          ]
        }
      ],
      "source": [
        "!trec_eval/trec_eval -m recall.10 -m map_cut.10 /content/qrels /content/rankings.trec"
      ]
    },
    {
      "cell_type": "markdown",
      "source": [
        "## Rankings File of Unseen Data"
      ],
      "metadata": {
        "id": "I_myicsmUr6u"
      }
    },
    {
      "cell_type": "code",
      "source": [
        "questions=[]\n",
        "\n",
        "for item in unseen_data:\n",
        "    questions.append({\"QuestionID\": item[\"QuestionID\"], \"Question\": item[\"Question\"]})\n",
        "\n",
        "dimension = 768\n",
        "unseen_index = faiss.IndexFlatL2(dimension)\n",
        "\n",
        "unseen_question_to_id_map = {}\n",
        "unseen_question_embeddings = []\n",
        "\n",
        "for i, question in enumerate(questions):\n",
        "    question_id = question[\"QuestionID\"]\n",
        "    question_text = question[\"Question\"]\n",
        "    question_embedding = embed_text(question_text).flatten()\n",
        "    unseen_question_to_id_map[question_id] = i\n",
        "    unseen_question_embeddings.append(question_embedding)\n",
        "\n",
        "unseen_question_embeddings = np.vstack(unseen_question_embeddings)\n",
        "unseen_index.add(unseen_question_embeddings)\n",
        "\n",
        "faiss.write_index(unseen_index, \"/content/unseen_index.index\")\n",
        "\n",
        "np.save(\"/content/unseen_question_embeddings.npy\", unseen_question_embeddings)\n",
        "\n",
        "with open(\"/content/unseen_question_to_id_map.pkl\", \"wb\") as f:\n",
        "    pickle.dump(unseen_question_to_id_map, f)"
      ],
      "metadata": {
        "id": "t_LpW_hCzwlp"
      },
      "execution_count": null,
      "outputs": []
    },
    {
      "cell_type": "code",
      "source": [
        "combined_embeddings = np.vstack((all_question_embeddings, unseen_question_embeddings))\n",
        "\n",
        "with open(\"/content/unseen_question_to_id_map.pkl\", \"rb\") as f:\n",
        "    new_question_to_id_map = pickle.load(f)\n",
        "\n",
        "offset = len(question_to_id_map)\n",
        "for question_id, index in new_question_to_id_map.items():\n",
        "    new_question_to_id_map[question_id] = index + offset\n",
        "\n",
        "combined_question_to_id_map = {**question_to_id_map, **new_question_to_id_map}\n",
        "\n",
        "new_index = faiss.read_index(\"/content/unseen_index.index\")\n",
        "\n",
        "index = faiss.read_index(\"/content/faiss_index.index\")\n",
        "\n",
        "index.add(unseen_question_embeddings)\n",
        "\n",
        "faiss.write_index(index, \"/content/updated_index.index\")\n",
        "\n",
        "np.save(\"/content/updated_question_embeddings.npy\", combined_embeddings)\n",
        "\n",
        "with open(\"/content/updated_question_to_id_map.pkl\", \"wb\") as f:\n",
        "    pickle.dump(combined_question_to_id_map, f)"
      ],
      "metadata": {
        "id": "_v2VBw2SU6m7"
      },
      "execution_count": null,
      "outputs": []
    },
    {
      "cell_type": "code",
      "source": [
        "all_question_embeddings = np.load(\"/content/updated_question_embeddings.npy\")\n",
        "print(\"Embeddings shape:\", all_question_embeddings.shape)\n",
        "\n",
        "index_file_path = \"/content/updated_index.index\"\n",
        "index = faiss.read_index(index_file_path)\n",
        "print(\"FAISS index loaded successfully.\")\n",
        "\n",
        "with open(\"/content/updated_question_to_id_map.pkl\", \"rb\") as f:\n",
        "    question_to_id_map = pickle.load(f)"
      ],
      "metadata": {
        "id": "TGU6s07gUCi2"
      },
      "execution_count": null,
      "outputs": []
    },
    {
      "cell_type": "code",
      "source": [
        "with open('rankings_unseen.trec','w') as f:\n",
        "  for question in unseen_data:\n",
        "    query=question['Question']\n",
        "    query_id=question['QuestionID']\n",
        "    retrieved_docs=hybrid_retrieval(query, query_id)\n",
        "    for doc_index,doc in enumerate(retrieved_docs,start=1):\n",
        "      doc_id=doc['DocumentID']\n",
        "      passage_id=doc['PassageID']\n",
        "      pid = did2pid2id.get(doc_id, {}).get(passage_id, passage_id)\n",
        "      passage=doc['Passage']\n",
        "      score=doc['Score']\n",
        "      f.write(f\"{query_id} 0 {pid} {doc_index} {score} hybret\\n\")"
      ],
      "metadata": {
        "id": "9Lk-FtTrUEg1"
      },
      "execution_count": null,
      "outputs": []
    },
    {
      "cell_type": "code",
      "source": [
        "files.download('/content/rankings_unseen.trec')"
      ],
      "metadata": {
        "id": "f0MQ70wJVCzN"
      },
      "execution_count": null,
      "outputs": []
    },
    {
      "cell_type": "markdown",
      "metadata": {
        "id": "OikZe5mBXmST"
      },
      "source": [
        "# PART 2 - Answer Generation"
      ]
    },
    {
      "cell_type": "markdown",
      "metadata": {
        "id": "GqI86bHqXqaZ"
      },
      "source": [
        "## Using llama3-70b-8192 and llama-8b-8192 alternatively"
      ]
    },
    {
      "cell_type": "code",
      "execution_count": null,
      "metadata": {
        "id": "MAZEHl0znJfH"
      },
      "outputs": [],
      "source": [
        "def generate_answer(query, context):\n",
        "        prompt = (\n",
        "            \"Based on the following context, provide a detailed and structured answer that directly addresses the question. Each answer sentence must align with a sentence in the source passage(s), covering all critical regulatory obligations and avoiding any contradictions.\\n\\n\"\n",
        "            f\"Question: {query}\\n\"\n",
        "            f\"Context: {context}\\n\"\n",
        "            \"Answer: Provide a comprehensive response that reflects all key requirements and procedures mentioned in the regulatory documents, ensuring factual consistency and alignment with the context.\"\n",
        "        )\n",
        "\n",
        "        response = requests.post(\n",
        "            GROQ_URL,\n",
        "            headers={\"Authorization\": f\"Bearer {GROQ_API_KEY}\", \"Content-Type\": \"application/json\"},\n",
        "            json={\n",
        "                \"model\": \"llama3-70b-8192\",\n",
        "                \"messages\": [{\"role\": \"user\", \"content\": prompt}]\n",
        "            }\n",
        "        )\n",
        "\n",
        "        if response.status_code == 200:\n",
        "            return response.json()['choices'][0]['message']['content']\n",
        "        else:\n",
        "            print(f\"Error: {response.text}\")\n",
        "            return f\"Error: {response.text}\""
      ]
    },
    {
      "cell_type": "code",
      "execution_count": null,
      "metadata": {
        "id": "Mm6VK84kp2Vq"
      },
      "outputs": [],
      "source": [
        "def run_pipeline(query, query_id):\n",
        "    retrieved_docs = hybrid_retrieval(query, query_id)\n",
        "\n",
        "    passages = [doc['Passage'] for doc in retrieved_docs]\n",
        "\n",
        "    context_text = \" \".join(passages)\n",
        "\n",
        "    answer = generate_answer(query, context_text)\n",
        "\n",
        "    result = {\n",
        "        \"QuestionID\": query_id,\n",
        "        \"RetrievedPassages\": passages,\n",
        "        \"Answer\": answer\n",
        "    }\n",
        "    return result"
      ]
    },
    {
      "cell_type": "code",
      "execution_count": null,
      "metadata": {
        "id": "Vfe4w6GNqIbc"
      },
      "outputs": [],
      "source": [
        "#Test Run\n",
        "result = run_pipeline(query, query_id)\n",
        "print(result)"
      ]
    },
    {
      "cell_type": "code",
      "source": [
        "#Test Unseen Run\n",
        "unseen_id=\"07ced741-8abc-43a2-80b0-7740685481f4\"\n",
        "unseen_query=\"Can the ADGM provide clarification on the processes and procedures a Reporting Entity should follow if it disagrees with the Listing Authority\\u2019s assessment that disclosure is necessary to correct or prevent a false market?\""
      ],
      "metadata": {
        "id": "uTZRtcMYhS8H"
      },
      "execution_count": null,
      "outputs": []
    },
    {
      "cell_type": "code",
      "source": [
        "result = run_pipeline(unseen_query, unseen_id)\n",
        "print(result)"
      ],
      "metadata": {
        "id": "w5nd-uUlhYeK"
      },
      "execution_count": null,
      "outputs": []
    },
    {
      "cell_type": "code",
      "execution_count": null,
      "metadata": {
        "id": "SLTplWNnrjcV"
      },
      "outputs": [],
      "source": [
        "def load_existing_results(file_path):\n",
        "    try:\n",
        "        with open(file_path, \"r\") as f:\n",
        "            return json.load(f)\n",
        "    except FileNotFoundError:\n",
        "        return []"
      ]
    },
    {
      "cell_type": "code",
      "execution_count": null,
      "metadata": {
        "id": "zwf4tX5tZono"
      },
      "outputs": [],
      "source": [
        "results = load_existing_results(\"/content/generated_answers_unseen.json\")\n",
        "\n",
        "test_questions = []\n",
        "\n",
        "for item in unseen_data:\n",
        "    test_questions.append({\"QuestionID\": item[\"QuestionID\"], \"Question\": item[\"Question\"]})\n",
        "\n",
        "batch_size = 5\n",
        "\n",
        "for i in range(0, len(test_questions), batch_size):\n",
        "    batch = test_questions[i:i + batch_size]\n",
        "    batch_results = []\n",
        "\n",
        "    for q in batch:\n",
        "        result = run_pipeline(q[\"Question\"], q[\"QuestionID\"])\n",
        "        batch_results.append(result)\n",
        "        time.sleep(10)\n",
        "\n",
        "    results.extend(batch_results)\n",
        "\n",
        "    with open(\"/content/generated_answers_unseen.json\", \"w\") as f:\n",
        "        json.dump(results, f, indent=4)\n",
        "\n",
        "    print(f\"Processed batch {i // batch_size + 1} with {len(batch)} questions.\")"
      ]
    },
    {
      "cell_type": "code",
      "source": [
        "files.download('/content/generated_answers_unseen.json')"
      ],
      "metadata": {
        "id": "Lp5iziGpUuT6"
      },
      "execution_count": null,
      "outputs": []
    },
    {
      "cell_type": "markdown",
      "metadata": {
        "id": "oSk5ai3CX12e"
      },
      "source": [
        "### Repass on Llama"
      ]
    },
    {
      "cell_type": "code",
      "source": [
        "%cd /content/RePASs"
      ],
      "metadata": {
        "id": "LWoeRWLVZz4s"
      },
      "execution_count": null,
      "outputs": []
    },
    {
      "cell_type": "markdown",
      "source": [
        "Evaluation of Answers Generated for Unseen Questions"
      ],
      "metadata": {
        "id": "NVBRxP1izNz3"
      }
    },
    {
      "cell_type": "code",
      "execution_count": null,
      "metadata": {
        "id": "fx0ttsleZbxs"
      },
      "outputs": [],
      "source": [
        "!python /content/RePASs/scripts/evaluate_model.py --input_file /content/generated_answers_unseen.json --group_method_name my_method"
      ]
    }
  ],
  "metadata": {
    "colab": {
      "provenance": []
    },
    "kernelspec": {
      "display_name": "Python 3",
      "name": "python3"
    },
    "language_info": {
      "codemirror_mode": {
        "name": "ipython",
        "version": 3
      },
      "file_extension": ".py",
      "mimetype": "text/x-python",
      "name": "python",
      "nbconvert_exporter": "python",
      "pygments_lexer": "ipython3",
      "version": "3.11.3"
    },
    "widgets": {
      "application/vnd.jupyter.widget-state+json": {
        "f205efe4a7da4114b8efe42688f5a0cd": {
          "model_module": "@jupyter-widgets/controls",
          "model_name": "HBoxModel",
          "model_module_version": "1.5.0",
          "state": {
            "_dom_classes": [],
            "_model_module": "@jupyter-widgets/controls",
            "_model_module_version": "1.5.0",
            "_model_name": "HBoxModel",
            "_view_count": null,
            "_view_module": "@jupyter-widgets/controls",
            "_view_module_version": "1.5.0",
            "_view_name": "HBoxView",
            "box_style": "",
            "children": [
              "IPY_MODEL_dc71a07079f04f999ac6a1580d24d811",
              "IPY_MODEL_032afe0cd70e404090a0a82c4ba0a809",
              "IPY_MODEL_08d330a3c2ff4c8b8b231eef3c5c82d8"
            ],
            "layout": "IPY_MODEL_8f8aa85aaf6348cf8341fd7055b59352"
          }
        },
        "dc71a07079f04f999ac6a1580d24d811": {
          "model_module": "@jupyter-widgets/controls",
          "model_name": "HTMLModel",
          "model_module_version": "1.5.0",
          "state": {
            "_dom_classes": [],
            "_model_module": "@jupyter-widgets/controls",
            "_model_module_version": "1.5.0",
            "_model_name": "HTMLModel",
            "_view_count": null,
            "_view_module": "@jupyter-widgets/controls",
            "_view_module_version": "1.5.0",
            "_view_name": "HTMLView",
            "description": "",
            "description_tooltip": null,
            "layout": "IPY_MODEL_f079939f33774a54aabec9dfdfc1bf6a",
            "placeholder": "​",
            "style": "IPY_MODEL_b7d70fced0f441c0bde350e6dd85e70a",
            "value": "tokenizer_config.json: 100%"
          }
        },
        "032afe0cd70e404090a0a82c4ba0a809": {
          "model_module": "@jupyter-widgets/controls",
          "model_name": "FloatProgressModel",
          "model_module_version": "1.5.0",
          "state": {
            "_dom_classes": [],
            "_model_module": "@jupyter-widgets/controls",
            "_model_module_version": "1.5.0",
            "_model_name": "FloatProgressModel",
            "_view_count": null,
            "_view_module": "@jupyter-widgets/controls",
            "_view_module_version": "1.5.0",
            "_view_name": "ProgressView",
            "bar_style": "success",
            "description": "",
            "description_tooltip": null,
            "layout": "IPY_MODEL_04ef34a0489f4b9a98cbd5cf5786c30a",
            "max": 316,
            "min": 0,
            "orientation": "horizontal",
            "style": "IPY_MODEL_9263dd074957450f95ed13a686678d0e",
            "value": 316
          }
        },
        "08d330a3c2ff4c8b8b231eef3c5c82d8": {
          "model_module": "@jupyter-widgets/controls",
          "model_name": "HTMLModel",
          "model_module_version": "1.5.0",
          "state": {
            "_dom_classes": [],
            "_model_module": "@jupyter-widgets/controls",
            "_model_module_version": "1.5.0",
            "_model_name": "HTMLModel",
            "_view_count": null,
            "_view_module": "@jupyter-widgets/controls",
            "_view_module_version": "1.5.0",
            "_view_name": "HTMLView",
            "description": "",
            "description_tooltip": null,
            "layout": "IPY_MODEL_d3173392d39b4a81acc1f5a51323e1d7",
            "placeholder": "​",
            "style": "IPY_MODEL_bca08eef2c074a4d84b7b10886505785",
            "value": " 316/316 [00:00&lt;00:00, 4.71kB/s]"
          }
        },
        "8f8aa85aaf6348cf8341fd7055b59352": {
          "model_module": "@jupyter-widgets/base",
          "model_name": "LayoutModel",
          "model_module_version": "1.2.0",
          "state": {
            "_model_module": "@jupyter-widgets/base",
            "_model_module_version": "1.2.0",
            "_model_name": "LayoutModel",
            "_view_count": null,
            "_view_module": "@jupyter-widgets/base",
            "_view_module_version": "1.2.0",
            "_view_name": "LayoutView",
            "align_content": null,
            "align_items": null,
            "align_self": null,
            "border": null,
            "bottom": null,
            "display": null,
            "flex": null,
            "flex_flow": null,
            "grid_area": null,
            "grid_auto_columns": null,
            "grid_auto_flow": null,
            "grid_auto_rows": null,
            "grid_column": null,
            "grid_gap": null,
            "grid_row": null,
            "grid_template_areas": null,
            "grid_template_columns": null,
            "grid_template_rows": null,
            "height": null,
            "justify_content": null,
            "justify_items": null,
            "left": null,
            "margin": null,
            "max_height": null,
            "max_width": null,
            "min_height": null,
            "min_width": null,
            "object_fit": null,
            "object_position": null,
            "order": null,
            "overflow": null,
            "overflow_x": null,
            "overflow_y": null,
            "padding": null,
            "right": null,
            "top": null,
            "visibility": null,
            "width": null
          }
        },
        "f079939f33774a54aabec9dfdfc1bf6a": {
          "model_module": "@jupyter-widgets/base",
          "model_name": "LayoutModel",
          "model_module_version": "1.2.0",
          "state": {
            "_model_module": "@jupyter-widgets/base",
            "_model_module_version": "1.2.0",
            "_model_name": "LayoutModel",
            "_view_count": null,
            "_view_module": "@jupyter-widgets/base",
            "_view_module_version": "1.2.0",
            "_view_name": "LayoutView",
            "align_content": null,
            "align_items": null,
            "align_self": null,
            "border": null,
            "bottom": null,
            "display": null,
            "flex": null,
            "flex_flow": null,
            "grid_area": null,
            "grid_auto_columns": null,
            "grid_auto_flow": null,
            "grid_auto_rows": null,
            "grid_column": null,
            "grid_gap": null,
            "grid_row": null,
            "grid_template_areas": null,
            "grid_template_columns": null,
            "grid_template_rows": null,
            "height": null,
            "justify_content": null,
            "justify_items": null,
            "left": null,
            "margin": null,
            "max_height": null,
            "max_width": null,
            "min_height": null,
            "min_width": null,
            "object_fit": null,
            "object_position": null,
            "order": null,
            "overflow": null,
            "overflow_x": null,
            "overflow_y": null,
            "padding": null,
            "right": null,
            "top": null,
            "visibility": null,
            "width": null
          }
        },
        "b7d70fced0f441c0bde350e6dd85e70a": {
          "model_module": "@jupyter-widgets/controls",
          "model_name": "DescriptionStyleModel",
          "model_module_version": "1.5.0",
          "state": {
            "_model_module": "@jupyter-widgets/controls",
            "_model_module_version": "1.5.0",
            "_model_name": "DescriptionStyleModel",
            "_view_count": null,
            "_view_module": "@jupyter-widgets/base",
            "_view_module_version": "1.2.0",
            "_view_name": "StyleView",
            "description_width": ""
          }
        },
        "04ef34a0489f4b9a98cbd5cf5786c30a": {
          "model_module": "@jupyter-widgets/base",
          "model_name": "LayoutModel",
          "model_module_version": "1.2.0",
          "state": {
            "_model_module": "@jupyter-widgets/base",
            "_model_module_version": "1.2.0",
            "_model_name": "LayoutModel",
            "_view_count": null,
            "_view_module": "@jupyter-widgets/base",
            "_view_module_version": "1.2.0",
            "_view_name": "LayoutView",
            "align_content": null,
            "align_items": null,
            "align_self": null,
            "border": null,
            "bottom": null,
            "display": null,
            "flex": null,
            "flex_flow": null,
            "grid_area": null,
            "grid_auto_columns": null,
            "grid_auto_flow": null,
            "grid_auto_rows": null,
            "grid_column": null,
            "grid_gap": null,
            "grid_row": null,
            "grid_template_areas": null,
            "grid_template_columns": null,
            "grid_template_rows": null,
            "height": null,
            "justify_content": null,
            "justify_items": null,
            "left": null,
            "margin": null,
            "max_height": null,
            "max_width": null,
            "min_height": null,
            "min_width": null,
            "object_fit": null,
            "object_position": null,
            "order": null,
            "overflow": null,
            "overflow_x": null,
            "overflow_y": null,
            "padding": null,
            "right": null,
            "top": null,
            "visibility": null,
            "width": null
          }
        },
        "9263dd074957450f95ed13a686678d0e": {
          "model_module": "@jupyter-widgets/controls",
          "model_name": "ProgressStyleModel",
          "model_module_version": "1.5.0",
          "state": {
            "_model_module": "@jupyter-widgets/controls",
            "_model_module_version": "1.5.0",
            "_model_name": "ProgressStyleModel",
            "_view_count": null,
            "_view_module": "@jupyter-widgets/base",
            "_view_module_version": "1.2.0",
            "_view_name": "StyleView",
            "bar_color": null,
            "description_width": ""
          }
        },
        "d3173392d39b4a81acc1f5a51323e1d7": {
          "model_module": "@jupyter-widgets/base",
          "model_name": "LayoutModel",
          "model_module_version": "1.2.0",
          "state": {
            "_model_module": "@jupyter-widgets/base",
            "_model_module_version": "1.2.0",
            "_model_name": "LayoutModel",
            "_view_count": null,
            "_view_module": "@jupyter-widgets/base",
            "_view_module_version": "1.2.0",
            "_view_name": "LayoutView",
            "align_content": null,
            "align_items": null,
            "align_self": null,
            "border": null,
            "bottom": null,
            "display": null,
            "flex": null,
            "flex_flow": null,
            "grid_area": null,
            "grid_auto_columns": null,
            "grid_auto_flow": null,
            "grid_auto_rows": null,
            "grid_column": null,
            "grid_gap": null,
            "grid_row": null,
            "grid_template_areas": null,
            "grid_template_columns": null,
            "grid_template_rows": null,
            "height": null,
            "justify_content": null,
            "justify_items": null,
            "left": null,
            "margin": null,
            "max_height": null,
            "max_width": null,
            "min_height": null,
            "min_width": null,
            "object_fit": null,
            "object_position": null,
            "order": null,
            "overflow": null,
            "overflow_x": null,
            "overflow_y": null,
            "padding": null,
            "right": null,
            "top": null,
            "visibility": null,
            "width": null
          }
        },
        "bca08eef2c074a4d84b7b10886505785": {
          "model_module": "@jupyter-widgets/controls",
          "model_name": "DescriptionStyleModel",
          "model_module_version": "1.5.0",
          "state": {
            "_model_module": "@jupyter-widgets/controls",
            "_model_module_version": "1.5.0",
            "_model_name": "DescriptionStyleModel",
            "_view_count": null,
            "_view_module": "@jupyter-widgets/base",
            "_view_module_version": "1.2.0",
            "_view_name": "StyleView",
            "description_width": ""
          }
        },
        "5468f960aff34499b5d2da10e763400e": {
          "model_module": "@jupyter-widgets/controls",
          "model_name": "HBoxModel",
          "model_module_version": "1.5.0",
          "state": {
            "_dom_classes": [],
            "_model_module": "@jupyter-widgets/controls",
            "_model_module_version": "1.5.0",
            "_model_name": "HBoxModel",
            "_view_count": null,
            "_view_module": "@jupyter-widgets/controls",
            "_view_module_version": "1.5.0",
            "_view_name": "HBoxView",
            "box_style": "",
            "children": [
              "IPY_MODEL_e07e9f851fac4bb8a9b5e6e91c359785",
              "IPY_MODEL_a9ab0aa4a7c84c3eb2ee62b819fd4115",
              "IPY_MODEL_05a0de9948f14f03af9f2a9448e69289"
            ],
            "layout": "IPY_MODEL_8f4ba4ab08cd41579f611728cc821724"
          }
        },
        "e07e9f851fac4bb8a9b5e6e91c359785": {
          "model_module": "@jupyter-widgets/controls",
          "model_name": "HTMLModel",
          "model_module_version": "1.5.0",
          "state": {
            "_dom_classes": [],
            "_model_module": "@jupyter-widgets/controls",
            "_model_module_version": "1.5.0",
            "_model_name": "HTMLModel",
            "_view_count": null,
            "_view_module": "@jupyter-widgets/controls",
            "_view_module_version": "1.5.0",
            "_view_name": "HTMLView",
            "description": "",
            "description_tooltip": null,
            "layout": "IPY_MODEL_19d34a86d0d84121bfd56ec8a608025c",
            "placeholder": "​",
            "style": "IPY_MODEL_d896b29781304438ab9a6f3adff5d8b6",
            "value": "config.json: 100%"
          }
        },
        "a9ab0aa4a7c84c3eb2ee62b819fd4115": {
          "model_module": "@jupyter-widgets/controls",
          "model_name": "FloatProgressModel",
          "model_module_version": "1.5.0",
          "state": {
            "_dom_classes": [],
            "_model_module": "@jupyter-widgets/controls",
            "_model_module_version": "1.5.0",
            "_model_name": "FloatProgressModel",
            "_view_count": null,
            "_view_module": "@jupyter-widgets/controls",
            "_view_module_version": "1.5.0",
            "_view_name": "ProgressView",
            "bar_style": "success",
            "description": "",
            "description_tooltip": null,
            "layout": "IPY_MODEL_e137631d55aa4eacbf873d8acaeba32a",
            "max": 794,
            "min": 0,
            "orientation": "horizontal",
            "style": "IPY_MODEL_bf6be4e7127348a9876f3e4a498c5a98",
            "value": 794
          }
        },
        "05a0de9948f14f03af9f2a9448e69289": {
          "model_module": "@jupyter-widgets/controls",
          "model_name": "HTMLModel",
          "model_module_version": "1.5.0",
          "state": {
            "_dom_classes": [],
            "_model_module": "@jupyter-widgets/controls",
            "_model_module_version": "1.5.0",
            "_model_name": "HTMLModel",
            "_view_count": null,
            "_view_module": "@jupyter-widgets/controls",
            "_view_module_version": "1.5.0",
            "_view_name": "HTMLView",
            "description": "",
            "description_tooltip": null,
            "layout": "IPY_MODEL_10266700190342bd9f0f62a6fb396883",
            "placeholder": "​",
            "style": "IPY_MODEL_453cc00d5d724b7da7ffab174fe28460",
            "value": " 794/794 [00:00&lt;00:00, 19.9kB/s]"
          }
        },
        "8f4ba4ab08cd41579f611728cc821724": {
          "model_module": "@jupyter-widgets/base",
          "model_name": "LayoutModel",
          "model_module_version": "1.2.0",
          "state": {
            "_model_module": "@jupyter-widgets/base",
            "_model_module_version": "1.2.0",
            "_model_name": "LayoutModel",
            "_view_count": null,
            "_view_module": "@jupyter-widgets/base",
            "_view_module_version": "1.2.0",
            "_view_name": "LayoutView",
            "align_content": null,
            "align_items": null,
            "align_self": null,
            "border": null,
            "bottom": null,
            "display": null,
            "flex": null,
            "flex_flow": null,
            "grid_area": null,
            "grid_auto_columns": null,
            "grid_auto_flow": null,
            "grid_auto_rows": null,
            "grid_column": null,
            "grid_gap": null,
            "grid_row": null,
            "grid_template_areas": null,
            "grid_template_columns": null,
            "grid_template_rows": null,
            "height": null,
            "justify_content": null,
            "justify_items": null,
            "left": null,
            "margin": null,
            "max_height": null,
            "max_width": null,
            "min_height": null,
            "min_width": null,
            "object_fit": null,
            "object_position": null,
            "order": null,
            "overflow": null,
            "overflow_x": null,
            "overflow_y": null,
            "padding": null,
            "right": null,
            "top": null,
            "visibility": null,
            "width": null
          }
        },
        "19d34a86d0d84121bfd56ec8a608025c": {
          "model_module": "@jupyter-widgets/base",
          "model_name": "LayoutModel",
          "model_module_version": "1.2.0",
          "state": {
            "_model_module": "@jupyter-widgets/base",
            "_model_module_version": "1.2.0",
            "_model_name": "LayoutModel",
            "_view_count": null,
            "_view_module": "@jupyter-widgets/base",
            "_view_module_version": "1.2.0",
            "_view_name": "LayoutView",
            "align_content": null,
            "align_items": null,
            "align_self": null,
            "border": null,
            "bottom": null,
            "display": null,
            "flex": null,
            "flex_flow": null,
            "grid_area": null,
            "grid_auto_columns": null,
            "grid_auto_flow": null,
            "grid_auto_rows": null,
            "grid_column": null,
            "grid_gap": null,
            "grid_row": null,
            "grid_template_areas": null,
            "grid_template_columns": null,
            "grid_template_rows": null,
            "height": null,
            "justify_content": null,
            "justify_items": null,
            "left": null,
            "margin": null,
            "max_height": null,
            "max_width": null,
            "min_height": null,
            "min_width": null,
            "object_fit": null,
            "object_position": null,
            "order": null,
            "overflow": null,
            "overflow_x": null,
            "overflow_y": null,
            "padding": null,
            "right": null,
            "top": null,
            "visibility": null,
            "width": null
          }
        },
        "d896b29781304438ab9a6f3adff5d8b6": {
          "model_module": "@jupyter-widgets/controls",
          "model_name": "DescriptionStyleModel",
          "model_module_version": "1.5.0",
          "state": {
            "_model_module": "@jupyter-widgets/controls",
            "_model_module_version": "1.5.0",
            "_model_name": "DescriptionStyleModel",
            "_view_count": null,
            "_view_module": "@jupyter-widgets/base",
            "_view_module_version": "1.2.0",
            "_view_name": "StyleView",
            "description_width": ""
          }
        },
        "e137631d55aa4eacbf873d8acaeba32a": {
          "model_module": "@jupyter-widgets/base",
          "model_name": "LayoutModel",
          "model_module_version": "1.2.0",
          "state": {
            "_model_module": "@jupyter-widgets/base",
            "_model_module_version": "1.2.0",
            "_model_name": "LayoutModel",
            "_view_count": null,
            "_view_module": "@jupyter-widgets/base",
            "_view_module_version": "1.2.0",
            "_view_name": "LayoutView",
            "align_content": null,
            "align_items": null,
            "align_self": null,
            "border": null,
            "bottom": null,
            "display": null,
            "flex": null,
            "flex_flow": null,
            "grid_area": null,
            "grid_auto_columns": null,
            "grid_auto_flow": null,
            "grid_auto_rows": null,
            "grid_column": null,
            "grid_gap": null,
            "grid_row": null,
            "grid_template_areas": null,
            "grid_template_columns": null,
            "grid_template_rows": null,
            "height": null,
            "justify_content": null,
            "justify_items": null,
            "left": null,
            "margin": null,
            "max_height": null,
            "max_width": null,
            "min_height": null,
            "min_width": null,
            "object_fit": null,
            "object_position": null,
            "order": null,
            "overflow": null,
            "overflow_x": null,
            "overflow_y": null,
            "padding": null,
            "right": null,
            "top": null,
            "visibility": null,
            "width": null
          }
        },
        "bf6be4e7127348a9876f3e4a498c5a98": {
          "model_module": "@jupyter-widgets/controls",
          "model_name": "ProgressStyleModel",
          "model_module_version": "1.5.0",
          "state": {
            "_model_module": "@jupyter-widgets/controls",
            "_model_module_version": "1.5.0",
            "_model_name": "ProgressStyleModel",
            "_view_count": null,
            "_view_module": "@jupyter-widgets/base",
            "_view_module_version": "1.2.0",
            "_view_name": "StyleView",
            "bar_color": null,
            "description_width": ""
          }
        },
        "10266700190342bd9f0f62a6fb396883": {
          "model_module": "@jupyter-widgets/base",
          "model_name": "LayoutModel",
          "model_module_version": "1.2.0",
          "state": {
            "_model_module": "@jupyter-widgets/base",
            "_model_module_version": "1.2.0",
            "_model_name": "LayoutModel",
            "_view_count": null,
            "_view_module": "@jupyter-widgets/base",
            "_view_module_version": "1.2.0",
            "_view_name": "LayoutView",
            "align_content": null,
            "align_items": null,
            "align_self": null,
            "border": null,
            "bottom": null,
            "display": null,
            "flex": null,
            "flex_flow": null,
            "grid_area": null,
            "grid_auto_columns": null,
            "grid_auto_flow": null,
            "grid_auto_rows": null,
            "grid_column": null,
            "grid_gap": null,
            "grid_row": null,
            "grid_template_areas": null,
            "grid_template_columns": null,
            "grid_template_rows": null,
            "height": null,
            "justify_content": null,
            "justify_items": null,
            "left": null,
            "margin": null,
            "max_height": null,
            "max_width": null,
            "min_height": null,
            "min_width": null,
            "object_fit": null,
            "object_position": null,
            "order": null,
            "overflow": null,
            "overflow_x": null,
            "overflow_y": null,
            "padding": null,
            "right": null,
            "top": null,
            "visibility": null,
            "width": null
          }
        },
        "453cc00d5d724b7da7ffab174fe28460": {
          "model_module": "@jupyter-widgets/controls",
          "model_name": "DescriptionStyleModel",
          "model_module_version": "1.5.0",
          "state": {
            "_model_module": "@jupyter-widgets/controls",
            "_model_module_version": "1.5.0",
            "_model_name": "DescriptionStyleModel",
            "_view_count": null,
            "_view_module": "@jupyter-widgets/base",
            "_view_module_version": "1.2.0",
            "_view_name": "StyleView",
            "description_width": ""
          }
        },
        "3aad9b9460624deaa9ad838509d513f7": {
          "model_module": "@jupyter-widgets/controls",
          "model_name": "HBoxModel",
          "model_module_version": "1.5.0",
          "state": {
            "_dom_classes": [],
            "_model_module": "@jupyter-widgets/controls",
            "_model_module_version": "1.5.0",
            "_model_name": "HBoxModel",
            "_view_count": null,
            "_view_module": "@jupyter-widgets/controls",
            "_view_module_version": "1.5.0",
            "_view_name": "HBoxView",
            "box_style": "",
            "children": [
              "IPY_MODEL_9e85f9dcc6e54025bf5f1f1e0ab208f7",
              "IPY_MODEL_a0210ee7810345e5baf9536b66e361eb",
              "IPY_MODEL_6b6e2ec03f224302834d1f9a0c634fbd"
            ],
            "layout": "IPY_MODEL_32de4dae047343fd85d7a4b69125ba83"
          }
        },
        "9e85f9dcc6e54025bf5f1f1e0ab208f7": {
          "model_module": "@jupyter-widgets/controls",
          "model_name": "HTMLModel",
          "model_module_version": "1.5.0",
          "state": {
            "_dom_classes": [],
            "_model_module": "@jupyter-widgets/controls",
            "_model_module_version": "1.5.0",
            "_model_name": "HTMLModel",
            "_view_count": null,
            "_view_module": "@jupyter-widgets/controls",
            "_view_module_version": "1.5.0",
            "_view_name": "HTMLView",
            "description": "",
            "description_tooltip": null,
            "layout": "IPY_MODEL_66479e517086422887ebb23a11c857da",
            "placeholder": "​",
            "style": "IPY_MODEL_e861962b683d4567bafa815b02b85712",
            "value": "vocab.txt: 100%"
          }
        },
        "a0210ee7810345e5baf9536b66e361eb": {
          "model_module": "@jupyter-widgets/controls",
          "model_name": "FloatProgressModel",
          "model_module_version": "1.5.0",
          "state": {
            "_dom_classes": [],
            "_model_module": "@jupyter-widgets/controls",
            "_model_module_version": "1.5.0",
            "_model_name": "FloatProgressModel",
            "_view_count": null,
            "_view_module": "@jupyter-widgets/controls",
            "_view_module_version": "1.5.0",
            "_view_name": "ProgressView",
            "bar_style": "success",
            "description": "",
            "description_tooltip": null,
            "layout": "IPY_MODEL_7df374a09eae4987a7c94dc4d7700b99",
            "max": 231508,
            "min": 0,
            "orientation": "horizontal",
            "style": "IPY_MODEL_4d2d1ad1ef5d46dab3f9346d74d7c3f6",
            "value": 231508
          }
        },
        "6b6e2ec03f224302834d1f9a0c634fbd": {
          "model_module": "@jupyter-widgets/controls",
          "model_name": "HTMLModel",
          "model_module_version": "1.5.0",
          "state": {
            "_dom_classes": [],
            "_model_module": "@jupyter-widgets/controls",
            "_model_module_version": "1.5.0",
            "_model_name": "HTMLModel",
            "_view_count": null,
            "_view_module": "@jupyter-widgets/controls",
            "_view_module_version": "1.5.0",
            "_view_name": "HTMLView",
            "description": "",
            "description_tooltip": null,
            "layout": "IPY_MODEL_410e71d29bfb4fc8a8cfb327123001c2",
            "placeholder": "​",
            "style": "IPY_MODEL_d0192147f7cb45be85994b71fd775899",
            "value": " 232k/232k [00:00&lt;00:00, 1.75MB/s]"
          }
        },
        "32de4dae047343fd85d7a4b69125ba83": {
          "model_module": "@jupyter-widgets/base",
          "model_name": "LayoutModel",
          "model_module_version": "1.2.0",
          "state": {
            "_model_module": "@jupyter-widgets/base",
            "_model_module_version": "1.2.0",
            "_model_name": "LayoutModel",
            "_view_count": null,
            "_view_module": "@jupyter-widgets/base",
            "_view_module_version": "1.2.0",
            "_view_name": "LayoutView",
            "align_content": null,
            "align_items": null,
            "align_self": null,
            "border": null,
            "bottom": null,
            "display": null,
            "flex": null,
            "flex_flow": null,
            "grid_area": null,
            "grid_auto_columns": null,
            "grid_auto_flow": null,
            "grid_auto_rows": null,
            "grid_column": null,
            "grid_gap": null,
            "grid_row": null,
            "grid_template_areas": null,
            "grid_template_columns": null,
            "grid_template_rows": null,
            "height": null,
            "justify_content": null,
            "justify_items": null,
            "left": null,
            "margin": null,
            "max_height": null,
            "max_width": null,
            "min_height": null,
            "min_width": null,
            "object_fit": null,
            "object_position": null,
            "order": null,
            "overflow": null,
            "overflow_x": null,
            "overflow_y": null,
            "padding": null,
            "right": null,
            "top": null,
            "visibility": null,
            "width": null
          }
        },
        "66479e517086422887ebb23a11c857da": {
          "model_module": "@jupyter-widgets/base",
          "model_name": "LayoutModel",
          "model_module_version": "1.2.0",
          "state": {
            "_model_module": "@jupyter-widgets/base",
            "_model_module_version": "1.2.0",
            "_model_name": "LayoutModel",
            "_view_count": null,
            "_view_module": "@jupyter-widgets/base",
            "_view_module_version": "1.2.0",
            "_view_name": "LayoutView",
            "align_content": null,
            "align_items": null,
            "align_self": null,
            "border": null,
            "bottom": null,
            "display": null,
            "flex": null,
            "flex_flow": null,
            "grid_area": null,
            "grid_auto_columns": null,
            "grid_auto_flow": null,
            "grid_auto_rows": null,
            "grid_column": null,
            "grid_gap": null,
            "grid_row": null,
            "grid_template_areas": null,
            "grid_template_columns": null,
            "grid_template_rows": null,
            "height": null,
            "justify_content": null,
            "justify_items": null,
            "left": null,
            "margin": null,
            "max_height": null,
            "max_width": null,
            "min_height": null,
            "min_width": null,
            "object_fit": null,
            "object_position": null,
            "order": null,
            "overflow": null,
            "overflow_x": null,
            "overflow_y": null,
            "padding": null,
            "right": null,
            "top": null,
            "visibility": null,
            "width": null
          }
        },
        "e861962b683d4567bafa815b02b85712": {
          "model_module": "@jupyter-widgets/controls",
          "model_name": "DescriptionStyleModel",
          "model_module_version": "1.5.0",
          "state": {
            "_model_module": "@jupyter-widgets/controls",
            "_model_module_version": "1.5.0",
            "_model_name": "DescriptionStyleModel",
            "_view_count": null,
            "_view_module": "@jupyter-widgets/base",
            "_view_module_version": "1.2.0",
            "_view_name": "StyleView",
            "description_width": ""
          }
        },
        "7df374a09eae4987a7c94dc4d7700b99": {
          "model_module": "@jupyter-widgets/base",
          "model_name": "LayoutModel",
          "model_module_version": "1.2.0",
          "state": {
            "_model_module": "@jupyter-widgets/base",
            "_model_module_version": "1.2.0",
            "_model_name": "LayoutModel",
            "_view_count": null,
            "_view_module": "@jupyter-widgets/base",
            "_view_module_version": "1.2.0",
            "_view_name": "LayoutView",
            "align_content": null,
            "align_items": null,
            "align_self": null,
            "border": null,
            "bottom": null,
            "display": null,
            "flex": null,
            "flex_flow": null,
            "grid_area": null,
            "grid_auto_columns": null,
            "grid_auto_flow": null,
            "grid_auto_rows": null,
            "grid_column": null,
            "grid_gap": null,
            "grid_row": null,
            "grid_template_areas": null,
            "grid_template_columns": null,
            "grid_template_rows": null,
            "height": null,
            "justify_content": null,
            "justify_items": null,
            "left": null,
            "margin": null,
            "max_height": null,
            "max_width": null,
            "min_height": null,
            "min_width": null,
            "object_fit": null,
            "object_position": null,
            "order": null,
            "overflow": null,
            "overflow_x": null,
            "overflow_y": null,
            "padding": null,
            "right": null,
            "top": null,
            "visibility": null,
            "width": null
          }
        },
        "4d2d1ad1ef5d46dab3f9346d74d7c3f6": {
          "model_module": "@jupyter-widgets/controls",
          "model_name": "ProgressStyleModel",
          "model_module_version": "1.5.0",
          "state": {
            "_model_module": "@jupyter-widgets/controls",
            "_model_module_version": "1.5.0",
            "_model_name": "ProgressStyleModel",
            "_view_count": null,
            "_view_module": "@jupyter-widgets/base",
            "_view_module_version": "1.2.0",
            "_view_name": "StyleView",
            "bar_color": null,
            "description_width": ""
          }
        },
        "410e71d29bfb4fc8a8cfb327123001c2": {
          "model_module": "@jupyter-widgets/base",
          "model_name": "LayoutModel",
          "model_module_version": "1.2.0",
          "state": {
            "_model_module": "@jupyter-widgets/base",
            "_model_module_version": "1.2.0",
            "_model_name": "LayoutModel",
            "_view_count": null,
            "_view_module": "@jupyter-widgets/base",
            "_view_module_version": "1.2.0",
            "_view_name": "LayoutView",
            "align_content": null,
            "align_items": null,
            "align_self": null,
            "border": null,
            "bottom": null,
            "display": null,
            "flex": null,
            "flex_flow": null,
            "grid_area": null,
            "grid_auto_columns": null,
            "grid_auto_flow": null,
            "grid_auto_rows": null,
            "grid_column": null,
            "grid_gap": null,
            "grid_row": null,
            "grid_template_areas": null,
            "grid_template_columns": null,
            "grid_template_rows": null,
            "height": null,
            "justify_content": null,
            "justify_items": null,
            "left": null,
            "margin": null,
            "max_height": null,
            "max_width": null,
            "min_height": null,
            "min_width": null,
            "object_fit": null,
            "object_position": null,
            "order": null,
            "overflow": null,
            "overflow_x": null,
            "overflow_y": null,
            "padding": null,
            "right": null,
            "top": null,
            "visibility": null,
            "width": null
          }
        },
        "d0192147f7cb45be85994b71fd775899": {
          "model_module": "@jupyter-widgets/controls",
          "model_name": "DescriptionStyleModel",
          "model_module_version": "1.5.0",
          "state": {
            "_model_module": "@jupyter-widgets/controls",
            "_model_module_version": "1.5.0",
            "_model_name": "DescriptionStyleModel",
            "_view_count": null,
            "_view_module": "@jupyter-widgets/base",
            "_view_module_version": "1.2.0",
            "_view_name": "StyleView",
            "description_width": ""
          }
        },
        "8941932e87a64e1294164b91aee88c41": {
          "model_module": "@jupyter-widgets/controls",
          "model_name": "HBoxModel",
          "model_module_version": "1.5.0",
          "state": {
            "_dom_classes": [],
            "_model_module": "@jupyter-widgets/controls",
            "_model_module_version": "1.5.0",
            "_model_name": "HBoxModel",
            "_view_count": null,
            "_view_module": "@jupyter-widgets/controls",
            "_view_module_version": "1.5.0",
            "_view_name": "HBoxView",
            "box_style": "",
            "children": [
              "IPY_MODEL_45d26fbb968c42de827b4dff5a2a4856",
              "IPY_MODEL_a97ef700d59c4a59bd46c243413e025c",
              "IPY_MODEL_5c9ae064258e4ba8ab882a2e9f31d29a"
            ],
            "layout": "IPY_MODEL_870611aaeb774861a748d8d0f37241a7"
          }
        },
        "45d26fbb968c42de827b4dff5a2a4856": {
          "model_module": "@jupyter-widgets/controls",
          "model_name": "HTMLModel",
          "model_module_version": "1.5.0",
          "state": {
            "_dom_classes": [],
            "_model_module": "@jupyter-widgets/controls",
            "_model_module_version": "1.5.0",
            "_model_name": "HTMLModel",
            "_view_count": null,
            "_view_module": "@jupyter-widgets/controls",
            "_view_module_version": "1.5.0",
            "_view_name": "HTMLView",
            "description": "",
            "description_tooltip": null,
            "layout": "IPY_MODEL_af9b4b0fe3874af4b2fd22b0024f4f41",
            "placeholder": "​",
            "style": "IPY_MODEL_caa3a149d68a4145aac3d7cbc09b5fb0",
            "value": "special_tokens_map.json: 100%"
          }
        },
        "a97ef700d59c4a59bd46c243413e025c": {
          "model_module": "@jupyter-widgets/controls",
          "model_name": "FloatProgressModel",
          "model_module_version": "1.5.0",
          "state": {
            "_dom_classes": [],
            "_model_module": "@jupyter-widgets/controls",
            "_model_module_version": "1.5.0",
            "_model_name": "FloatProgressModel",
            "_view_count": null,
            "_view_module": "@jupyter-widgets/controls",
            "_view_module_version": "1.5.0",
            "_view_name": "ProgressView",
            "bar_style": "success",
            "description": "",
            "description_tooltip": null,
            "layout": "IPY_MODEL_511d3dc425bf4554a5aaebc86b4a7492",
            "max": 112,
            "min": 0,
            "orientation": "horizontal",
            "style": "IPY_MODEL_3e66828de0ac40dd9007810f762e8a0e",
            "value": 112
          }
        },
        "5c9ae064258e4ba8ab882a2e9f31d29a": {
          "model_module": "@jupyter-widgets/controls",
          "model_name": "HTMLModel",
          "model_module_version": "1.5.0",
          "state": {
            "_dom_classes": [],
            "_model_module": "@jupyter-widgets/controls",
            "_model_module_version": "1.5.0",
            "_model_name": "HTMLModel",
            "_view_count": null,
            "_view_module": "@jupyter-widgets/controls",
            "_view_module_version": "1.5.0",
            "_view_name": "HTMLView",
            "description": "",
            "description_tooltip": null,
            "layout": "IPY_MODEL_1e90f8836b5c4a478e0939dab1c6db83",
            "placeholder": "​",
            "style": "IPY_MODEL_4fd21961616c4a7794348a9b3f57c953",
            "value": " 112/112 [00:00&lt;00:00, 1.99kB/s]"
          }
        },
        "870611aaeb774861a748d8d0f37241a7": {
          "model_module": "@jupyter-widgets/base",
          "model_name": "LayoutModel",
          "model_module_version": "1.2.0",
          "state": {
            "_model_module": "@jupyter-widgets/base",
            "_model_module_version": "1.2.0",
            "_model_name": "LayoutModel",
            "_view_count": null,
            "_view_module": "@jupyter-widgets/base",
            "_view_module_version": "1.2.0",
            "_view_name": "LayoutView",
            "align_content": null,
            "align_items": null,
            "align_self": null,
            "border": null,
            "bottom": null,
            "display": null,
            "flex": null,
            "flex_flow": null,
            "grid_area": null,
            "grid_auto_columns": null,
            "grid_auto_flow": null,
            "grid_auto_rows": null,
            "grid_column": null,
            "grid_gap": null,
            "grid_row": null,
            "grid_template_areas": null,
            "grid_template_columns": null,
            "grid_template_rows": null,
            "height": null,
            "justify_content": null,
            "justify_items": null,
            "left": null,
            "margin": null,
            "max_height": null,
            "max_width": null,
            "min_height": null,
            "min_width": null,
            "object_fit": null,
            "object_position": null,
            "order": null,
            "overflow": null,
            "overflow_x": null,
            "overflow_y": null,
            "padding": null,
            "right": null,
            "top": null,
            "visibility": null,
            "width": null
          }
        },
        "af9b4b0fe3874af4b2fd22b0024f4f41": {
          "model_module": "@jupyter-widgets/base",
          "model_name": "LayoutModel",
          "model_module_version": "1.2.0",
          "state": {
            "_model_module": "@jupyter-widgets/base",
            "_model_module_version": "1.2.0",
            "_model_name": "LayoutModel",
            "_view_count": null,
            "_view_module": "@jupyter-widgets/base",
            "_view_module_version": "1.2.0",
            "_view_name": "LayoutView",
            "align_content": null,
            "align_items": null,
            "align_self": null,
            "border": null,
            "bottom": null,
            "display": null,
            "flex": null,
            "flex_flow": null,
            "grid_area": null,
            "grid_auto_columns": null,
            "grid_auto_flow": null,
            "grid_auto_rows": null,
            "grid_column": null,
            "grid_gap": null,
            "grid_row": null,
            "grid_template_areas": null,
            "grid_template_columns": null,
            "grid_template_rows": null,
            "height": null,
            "justify_content": null,
            "justify_items": null,
            "left": null,
            "margin": null,
            "max_height": null,
            "max_width": null,
            "min_height": null,
            "min_width": null,
            "object_fit": null,
            "object_position": null,
            "order": null,
            "overflow": null,
            "overflow_x": null,
            "overflow_y": null,
            "padding": null,
            "right": null,
            "top": null,
            "visibility": null,
            "width": null
          }
        },
        "caa3a149d68a4145aac3d7cbc09b5fb0": {
          "model_module": "@jupyter-widgets/controls",
          "model_name": "DescriptionStyleModel",
          "model_module_version": "1.5.0",
          "state": {
            "_model_module": "@jupyter-widgets/controls",
            "_model_module_version": "1.5.0",
            "_model_name": "DescriptionStyleModel",
            "_view_count": null,
            "_view_module": "@jupyter-widgets/base",
            "_view_module_version": "1.2.0",
            "_view_name": "StyleView",
            "description_width": ""
          }
        },
        "511d3dc425bf4554a5aaebc86b4a7492": {
          "model_module": "@jupyter-widgets/base",
          "model_name": "LayoutModel",
          "model_module_version": "1.2.0",
          "state": {
            "_model_module": "@jupyter-widgets/base",
            "_model_module_version": "1.2.0",
            "_model_name": "LayoutModel",
            "_view_count": null,
            "_view_module": "@jupyter-widgets/base",
            "_view_module_version": "1.2.0",
            "_view_name": "LayoutView",
            "align_content": null,
            "align_items": null,
            "align_self": null,
            "border": null,
            "bottom": null,
            "display": null,
            "flex": null,
            "flex_flow": null,
            "grid_area": null,
            "grid_auto_columns": null,
            "grid_auto_flow": null,
            "grid_auto_rows": null,
            "grid_column": null,
            "grid_gap": null,
            "grid_row": null,
            "grid_template_areas": null,
            "grid_template_columns": null,
            "grid_template_rows": null,
            "height": null,
            "justify_content": null,
            "justify_items": null,
            "left": null,
            "margin": null,
            "max_height": null,
            "max_width": null,
            "min_height": null,
            "min_width": null,
            "object_fit": null,
            "object_position": null,
            "order": null,
            "overflow": null,
            "overflow_x": null,
            "overflow_y": null,
            "padding": null,
            "right": null,
            "top": null,
            "visibility": null,
            "width": null
          }
        },
        "3e66828de0ac40dd9007810f762e8a0e": {
          "model_module": "@jupyter-widgets/controls",
          "model_name": "ProgressStyleModel",
          "model_module_version": "1.5.0",
          "state": {
            "_model_module": "@jupyter-widgets/controls",
            "_model_module_version": "1.5.0",
            "_model_name": "ProgressStyleModel",
            "_view_count": null,
            "_view_module": "@jupyter-widgets/base",
            "_view_module_version": "1.2.0",
            "_view_name": "StyleView",
            "bar_color": null,
            "description_width": ""
          }
        },
        "1e90f8836b5c4a478e0939dab1c6db83": {
          "model_module": "@jupyter-widgets/base",
          "model_name": "LayoutModel",
          "model_module_version": "1.2.0",
          "state": {
            "_model_module": "@jupyter-widgets/base",
            "_model_module_version": "1.2.0",
            "_model_name": "LayoutModel",
            "_view_count": null,
            "_view_module": "@jupyter-widgets/base",
            "_view_module_version": "1.2.0",
            "_view_name": "LayoutView",
            "align_content": null,
            "align_items": null,
            "align_self": null,
            "border": null,
            "bottom": null,
            "display": null,
            "flex": null,
            "flex_flow": null,
            "grid_area": null,
            "grid_auto_columns": null,
            "grid_auto_flow": null,
            "grid_auto_rows": null,
            "grid_column": null,
            "grid_gap": null,
            "grid_row": null,
            "grid_template_areas": null,
            "grid_template_columns": null,
            "grid_template_rows": null,
            "height": null,
            "justify_content": null,
            "justify_items": null,
            "left": null,
            "margin": null,
            "max_height": null,
            "max_width": null,
            "min_height": null,
            "min_width": null,
            "object_fit": null,
            "object_position": null,
            "order": null,
            "overflow": null,
            "overflow_x": null,
            "overflow_y": null,
            "padding": null,
            "right": null,
            "top": null,
            "visibility": null,
            "width": null
          }
        },
        "4fd21961616c4a7794348a9b3f57c953": {
          "model_module": "@jupyter-widgets/controls",
          "model_name": "DescriptionStyleModel",
          "model_module_version": "1.5.0",
          "state": {
            "_model_module": "@jupyter-widgets/controls",
            "_model_module_version": "1.5.0",
            "_model_name": "DescriptionStyleModel",
            "_view_count": null,
            "_view_module": "@jupyter-widgets/base",
            "_view_module_version": "1.2.0",
            "_view_name": "StyleView",
            "description_width": ""
          }
        },
        "228ab894a04644b1a0fbef22233bf7c0": {
          "model_module": "@jupyter-widgets/controls",
          "model_name": "HBoxModel",
          "model_module_version": "1.5.0",
          "state": {
            "_dom_classes": [],
            "_model_module": "@jupyter-widgets/controls",
            "_model_module_version": "1.5.0",
            "_model_name": "HBoxModel",
            "_view_count": null,
            "_view_module": "@jupyter-widgets/controls",
            "_view_module_version": "1.5.0",
            "_view_name": "HBoxView",
            "box_style": "",
            "children": [
              "IPY_MODEL_034eac5aa6924abd92674b4be8d064c0",
              "IPY_MODEL_517d54ebf7a54a709015dc6060050c0c",
              "IPY_MODEL_0f1692ae66b04597b618d279d46f4178"
            ],
            "layout": "IPY_MODEL_c232f70015954456926bd7dce8b1f0f6"
          }
        },
        "034eac5aa6924abd92674b4be8d064c0": {
          "model_module": "@jupyter-widgets/controls",
          "model_name": "HTMLModel",
          "model_module_version": "1.5.0",
          "state": {
            "_dom_classes": [],
            "_model_module": "@jupyter-widgets/controls",
            "_model_module_version": "1.5.0",
            "_model_name": "HTMLModel",
            "_view_count": null,
            "_view_module": "@jupyter-widgets/controls",
            "_view_module_version": "1.5.0",
            "_view_name": "HTMLView",
            "description": "",
            "description_tooltip": null,
            "layout": "IPY_MODEL_252d1972972c402683e34b6e19323429",
            "placeholder": "​",
            "style": "IPY_MODEL_9632e9f69f824ea7a1220713bb6611e7",
            "value": "pytorch_model.bin: 100%"
          }
        },
        "517d54ebf7a54a709015dc6060050c0c": {
          "model_module": "@jupyter-widgets/controls",
          "model_name": "FloatProgressModel",
          "model_module_version": "1.5.0",
          "state": {
            "_dom_classes": [],
            "_model_module": "@jupyter-widgets/controls",
            "_model_module_version": "1.5.0",
            "_model_name": "FloatProgressModel",
            "_view_count": null,
            "_view_module": "@jupyter-widgets/controls",
            "_view_module_version": "1.5.0",
            "_view_name": "ProgressView",
            "bar_style": "success",
            "description": "",
            "description_tooltip": null,
            "layout": "IPY_MODEL_86a40a7c72b34e968f57cc83698250e1",
            "max": 90903017,
            "min": 0,
            "orientation": "horizontal",
            "style": "IPY_MODEL_c4ebdb91d2124697b4a792ed670b2f7d",
            "value": 90903017
          }
        },
        "0f1692ae66b04597b618d279d46f4178": {
          "model_module": "@jupyter-widgets/controls",
          "model_name": "HTMLModel",
          "model_module_version": "1.5.0",
          "state": {
            "_dom_classes": [],
            "_model_module": "@jupyter-widgets/controls",
            "_model_module_version": "1.5.0",
            "_model_name": "HTMLModel",
            "_view_count": null,
            "_view_module": "@jupyter-widgets/controls",
            "_view_module_version": "1.5.0",
            "_view_name": "HTMLView",
            "description": "",
            "description_tooltip": null,
            "layout": "IPY_MODEL_15e1dc4a6ef04b5181ca949d4d1958ff",
            "placeholder": "​",
            "style": "IPY_MODEL_b552f32f21bc407899b6dbc098813650",
            "value": " 90.9M/90.9M [00:01&lt;00:00, 94.9MB/s]"
          }
        },
        "c232f70015954456926bd7dce8b1f0f6": {
          "model_module": "@jupyter-widgets/base",
          "model_name": "LayoutModel",
          "model_module_version": "1.2.0",
          "state": {
            "_model_module": "@jupyter-widgets/base",
            "_model_module_version": "1.2.0",
            "_model_name": "LayoutModel",
            "_view_count": null,
            "_view_module": "@jupyter-widgets/base",
            "_view_module_version": "1.2.0",
            "_view_name": "LayoutView",
            "align_content": null,
            "align_items": null,
            "align_self": null,
            "border": null,
            "bottom": null,
            "display": null,
            "flex": null,
            "flex_flow": null,
            "grid_area": null,
            "grid_auto_columns": null,
            "grid_auto_flow": null,
            "grid_auto_rows": null,
            "grid_column": null,
            "grid_gap": null,
            "grid_row": null,
            "grid_template_areas": null,
            "grid_template_columns": null,
            "grid_template_rows": null,
            "height": null,
            "justify_content": null,
            "justify_items": null,
            "left": null,
            "margin": null,
            "max_height": null,
            "max_width": null,
            "min_height": null,
            "min_width": null,
            "object_fit": null,
            "object_position": null,
            "order": null,
            "overflow": null,
            "overflow_x": null,
            "overflow_y": null,
            "padding": null,
            "right": null,
            "top": null,
            "visibility": null,
            "width": null
          }
        },
        "252d1972972c402683e34b6e19323429": {
          "model_module": "@jupyter-widgets/base",
          "model_name": "LayoutModel",
          "model_module_version": "1.2.0",
          "state": {
            "_model_module": "@jupyter-widgets/base",
            "_model_module_version": "1.2.0",
            "_model_name": "LayoutModel",
            "_view_count": null,
            "_view_module": "@jupyter-widgets/base",
            "_view_module_version": "1.2.0",
            "_view_name": "LayoutView",
            "align_content": null,
            "align_items": null,
            "align_self": null,
            "border": null,
            "bottom": null,
            "display": null,
            "flex": null,
            "flex_flow": null,
            "grid_area": null,
            "grid_auto_columns": null,
            "grid_auto_flow": null,
            "grid_auto_rows": null,
            "grid_column": null,
            "grid_gap": null,
            "grid_row": null,
            "grid_template_areas": null,
            "grid_template_columns": null,
            "grid_template_rows": null,
            "height": null,
            "justify_content": null,
            "justify_items": null,
            "left": null,
            "margin": null,
            "max_height": null,
            "max_width": null,
            "min_height": null,
            "min_width": null,
            "object_fit": null,
            "object_position": null,
            "order": null,
            "overflow": null,
            "overflow_x": null,
            "overflow_y": null,
            "padding": null,
            "right": null,
            "top": null,
            "visibility": null,
            "width": null
          }
        },
        "9632e9f69f824ea7a1220713bb6611e7": {
          "model_module": "@jupyter-widgets/controls",
          "model_name": "DescriptionStyleModel",
          "model_module_version": "1.5.0",
          "state": {
            "_model_module": "@jupyter-widgets/controls",
            "_model_module_version": "1.5.0",
            "_model_name": "DescriptionStyleModel",
            "_view_count": null,
            "_view_module": "@jupyter-widgets/base",
            "_view_module_version": "1.2.0",
            "_view_name": "StyleView",
            "description_width": ""
          }
        },
        "86a40a7c72b34e968f57cc83698250e1": {
          "model_module": "@jupyter-widgets/base",
          "model_name": "LayoutModel",
          "model_module_version": "1.2.0",
          "state": {
            "_model_module": "@jupyter-widgets/base",
            "_model_module_version": "1.2.0",
            "_model_name": "LayoutModel",
            "_view_count": null,
            "_view_module": "@jupyter-widgets/base",
            "_view_module_version": "1.2.0",
            "_view_name": "LayoutView",
            "align_content": null,
            "align_items": null,
            "align_self": null,
            "border": null,
            "bottom": null,
            "display": null,
            "flex": null,
            "flex_flow": null,
            "grid_area": null,
            "grid_auto_columns": null,
            "grid_auto_flow": null,
            "grid_auto_rows": null,
            "grid_column": null,
            "grid_gap": null,
            "grid_row": null,
            "grid_template_areas": null,
            "grid_template_columns": null,
            "grid_template_rows": null,
            "height": null,
            "justify_content": null,
            "justify_items": null,
            "left": null,
            "margin": null,
            "max_height": null,
            "max_width": null,
            "min_height": null,
            "min_width": null,
            "object_fit": null,
            "object_position": null,
            "order": null,
            "overflow": null,
            "overflow_x": null,
            "overflow_y": null,
            "padding": null,
            "right": null,
            "top": null,
            "visibility": null,
            "width": null
          }
        },
        "c4ebdb91d2124697b4a792ed670b2f7d": {
          "model_module": "@jupyter-widgets/controls",
          "model_name": "ProgressStyleModel",
          "model_module_version": "1.5.0",
          "state": {
            "_model_module": "@jupyter-widgets/controls",
            "_model_module_version": "1.5.0",
            "_model_name": "ProgressStyleModel",
            "_view_count": null,
            "_view_module": "@jupyter-widgets/base",
            "_view_module_version": "1.2.0",
            "_view_name": "StyleView",
            "bar_color": null,
            "description_width": ""
          }
        },
        "15e1dc4a6ef04b5181ca949d4d1958ff": {
          "model_module": "@jupyter-widgets/base",
          "model_name": "LayoutModel",
          "model_module_version": "1.2.0",
          "state": {
            "_model_module": "@jupyter-widgets/base",
            "_model_module_version": "1.2.0",
            "_model_name": "LayoutModel",
            "_view_count": null,
            "_view_module": "@jupyter-widgets/base",
            "_view_module_version": "1.2.0",
            "_view_name": "LayoutView",
            "align_content": null,
            "align_items": null,
            "align_self": null,
            "border": null,
            "bottom": null,
            "display": null,
            "flex": null,
            "flex_flow": null,
            "grid_area": null,
            "grid_auto_columns": null,
            "grid_auto_flow": null,
            "grid_auto_rows": null,
            "grid_column": null,
            "grid_gap": null,
            "grid_row": null,
            "grid_template_areas": null,
            "grid_template_columns": null,
            "grid_template_rows": null,
            "height": null,
            "justify_content": null,
            "justify_items": null,
            "left": null,
            "margin": null,
            "max_height": null,
            "max_width": null,
            "min_height": null,
            "min_width": null,
            "object_fit": null,
            "object_position": null,
            "order": null,
            "overflow": null,
            "overflow_x": null,
            "overflow_y": null,
            "padding": null,
            "right": null,
            "top": null,
            "visibility": null,
            "width": null
          }
        },
        "b552f32f21bc407899b6dbc098813650": {
          "model_module": "@jupyter-widgets/controls",
          "model_name": "DescriptionStyleModel",
          "model_module_version": "1.5.0",
          "state": {
            "_model_module": "@jupyter-widgets/controls",
            "_model_module_version": "1.5.0",
            "_model_name": "DescriptionStyleModel",
            "_view_count": null,
            "_view_module": "@jupyter-widgets/base",
            "_view_module_version": "1.2.0",
            "_view_name": "StyleView",
            "description_width": ""
          }
        }
      }
    }
  },
  "nbformat": 4,
  "nbformat_minor": 0
}